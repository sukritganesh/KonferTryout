{
 "cells": [
  {
   "cell_type": "code",
   "execution_count": 38,
   "metadata": {},
   "outputs": [],
   "source": [
    "from redbaron import RedBaron, NameNode\n",
    "import gorilla\n",
    "import json\n",
    "import my_utils\n",
    "import numpy as np"
   ]
  },
  {
   "cell_type": "markdown",
   "metadata": {},
   "source": [
    "## Open KNN.py file (adapted from knn.ipynb)"
   ]
  },
  {
   "cell_type": "code",
   "execution_count": 39,
   "metadata": {},
   "outputs": [],
   "source": [
    "with open(\"../source_files/knn.py\", \"r\") as source_code:\n",
    "    red = RedBaron(source_code.read())"
   ]
  },
  {
   "cell_type": "markdown",
   "metadata": {},
   "source": [
    "# Print arguments of every function WHEN that function is called.\n",
    "\n",
    "Note: Can also be used to print arguments BEFORE a function is called by searching for CallNode instead of DefNode. Additionally, arguments can be LOGGED as opposed to printed. Not every argument needs to be examined; more specific algorithms can print out only certain arguments (ex. ones related to machine learning), but that depends on selection algorithm. Overall code structure remains the same."
   ]
  },
  {
   "cell_type": "code",
   "execution_count": 40,
   "metadata": {},
   "outputs": [
    {
     "data": {
      "text/html": [
       "<div class=\"highlight\" style=\"background: #f8f8f8\"><pre style=\"line-height: 125%;\"><span></span><span style=\"color: #008000; font-weight: bold\">def</span> <span style=\"color: #0000FF\">finalKNNModel</span>(<span style=\"color: #008000\">self</span>,bestLagData,bestFeatures,target):\n",
       "        <span style=\"color: #BA2121; font-style: italic\">&#39;&#39;&#39;</span>\n",
       "<span style=\"color: #BA2121; font-style: italic\">        Args:</span>\n",
       "<span style=\"color: #BA2121; font-style: italic\">            bestLagData -&gt; bestLag dataframe</span>\n",
       "<span style=\"color: #BA2121; font-style: italic\">            bestFeatures -&gt; bestLag feature list</span>\n",
       "<span style=\"color: #BA2121; font-style: italic\">            target -&gt; target feature name</span>\n",
       "<span style=\"color: #BA2121; font-style: italic\">        Returns:</span>\n",
       "<span style=\"color: #BA2121; font-style: italic\">            It will train KNN model on 100% data(bestLag Data)</span>\n",
       "<span style=\"color: #BA2121; font-style: italic\">        &#39;&#39;&#39;</span>\n",
       "        X <span style=\"color: #666666\">=</span> bestLagData[bestFeatures]<span style=\"color: #666666\">.</span>to_numpy()\n",
       "        y <span style=\"color: #666666\">=</span> bestLagData[target]<span style=\"color: #666666\">.</span>to_numpy()\n",
       "        knn <span style=\"color: #666666\">=</span> KNeighborsRegressor(n_neighbors<span style=\"color: #666666\">=5</span>,weights<span style=\"color: #666666\">=</span><span style=\"color: #008000\">self</span><span style=\"color: #666666\">.</span>knnweight)\n",
       "        knn<span style=\"color: #666666\">.</span>fit(X,y)\n",
       "        <span style=\"color: #008000; font-weight: bold\">return</span> knn\n",
       "\n",
       "    \n",
       "</pre></div>\n"
      ],
      "text/plain": [
       "<DefNode path=[86, 'value', 15], \"def finalKNNMode... \" 140296619227744, on ClassNode 140296064779360>"
      ]
     },
     "execution_count": 40,
     "metadata": {},
     "output_type": "execute_result"
    }
   ],
   "source": [
    "allfuncs = red.find_all(\"DefNode\")\n",
    "rand_func_idx = np.random.choice(len(allfuncs))\n",
    "allfuncs[rand_func_idx]"
   ]
  },
  {
   "cell_type": "code",
   "execution_count": 41,
   "metadata": {},
   "outputs": [],
   "source": [
    "# Iterate over all functions\n",
    "for func in allfuncs:\n",
    "    # Iterate over all arguments in this function (in reverse order, for ease of printing)\n",
    "    args = func.arguments\n",
    "    func.value.insert(0, \"print(\\'\\\\n\\')\")\n",
    "    for i in range(len(args) - 1, -1, -1):\n",
    "        # no need to print out self\n",
    "        if (args[i].target.value != 'self'):\n",
    "            # Construct print statement for the argument (could be logging instead)\n",
    "            pstr = \"print('\" + args[i].target.value + \":', \" + args[i].target.value + \", end=\\' | \\')\"\n",
    "            # Insert that statement at the beginning ...\n",
    "        func.value.insert(0, pstr) \n",
    "    func.value.insert(0, \"print('Arguments for function \\\\\\'\" + func.name + \"\\\\\\':')\")"
   ]
  },
  {
   "cell_type": "markdown",
   "metadata": {},
   "source": [
    "Print out the structure of the function."
   ]
  },
  {
   "cell_type": "code",
   "execution_count": 42,
   "metadata": {},
   "outputs": [
    {
     "data": {
      "text/html": [
       "<div class=\"highlight\" style=\"background: #f8f8f8\"><pre style=\"line-height: 125%;\"><span></span><span style=\"color: #008000; font-weight: bold\">def</span> <span style=\"color: #0000FF\">finalKNNModel</span>(<span style=\"color: #008000\">self</span>,bestLagData,bestFeatures,target):\n",
       "        <span style=\"color: #008000\">print</span>(<span style=\"color: #BA2121\">&#39;Arguments for function </span><span style=\"color: #AA5D1F; font-weight: bold\">\\&#39;</span><span style=\"color: #BA2121\">finalKNNModel</span><span style=\"color: #AA5D1F; font-weight: bold\">\\&#39;</span><span style=\"color: #BA2121\">:&#39;</span>)\n",
       "        <span style=\"color: #008000\">print</span>(<span style=\"color: #BA2121\">&#39;bestLagData:&#39;</span>, bestLagData, end<span style=\"color: #666666\">=</span><span style=\"color: #BA2121\">&#39; | &#39;</span>)\n",
       "        <span style=\"color: #008000\">print</span>(<span style=\"color: #BA2121\">&#39;bestLagData:&#39;</span>, bestLagData, end<span style=\"color: #666666\">=</span><span style=\"color: #BA2121\">&#39; | &#39;</span>)\n",
       "        <span style=\"color: #008000\">print</span>(<span style=\"color: #BA2121\">&#39;bestFeatures:&#39;</span>, bestFeatures, end<span style=\"color: #666666\">=</span><span style=\"color: #BA2121\">&#39; | &#39;</span>)\n",
       "        <span style=\"color: #008000\">print</span>(<span style=\"color: #BA2121\">&#39;target:&#39;</span>, target, end<span style=\"color: #666666\">=</span><span style=\"color: #BA2121\">&#39; | &#39;</span>)\n",
       "        <span style=\"color: #008000\">print</span>(<span style=\"color: #BA2121\">&#39;</span><span style=\"color: #AA5D1F; font-weight: bold\">\\n</span><span style=\"color: #BA2121\">&#39;</span>)\n",
       "        <span style=\"color: #BA2121; font-style: italic\">&#39;&#39;&#39;</span>\n",
       "<span style=\"color: #BA2121; font-style: italic\">        Args:</span>\n",
       "<span style=\"color: #BA2121; font-style: italic\">            bestLagData -&gt; bestLag dataframe</span>\n",
       "<span style=\"color: #BA2121; font-style: italic\">            bestFeatures -&gt; bestLag feature list</span>\n",
       "<span style=\"color: #BA2121; font-style: italic\">            target -&gt; target feature name</span>\n",
       "<span style=\"color: #BA2121; font-style: italic\">        Returns:</span>\n",
       "<span style=\"color: #BA2121; font-style: italic\">            It will train KNN model on 100% data(bestLag Data)</span>\n",
       "<span style=\"color: #BA2121; font-style: italic\">        &#39;&#39;&#39;</span>\n",
       "        X <span style=\"color: #666666\">=</span> bestLagData[bestFeatures]<span style=\"color: #666666\">.</span>to_numpy()\n",
       "        y <span style=\"color: #666666\">=</span> bestLagData[target]<span style=\"color: #666666\">.</span>to_numpy()\n",
       "        knn <span style=\"color: #666666\">=</span> KNeighborsRegressor(n_neighbors<span style=\"color: #666666\">=5</span>,weights<span style=\"color: #666666\">=</span><span style=\"color: #008000\">self</span><span style=\"color: #666666\">.</span>knnweight)\n",
       "        knn<span style=\"color: #666666\">.</span>fit(X,y)\n",
       "        <span style=\"color: #008000; font-weight: bold\">return</span> knn\n",
       "\n",
       "    \n",
       "</pre></div>\n"
      ],
      "text/plain": [
       "<DefNode path=[86, 'value', 15], \"def finalKNNMode... \" 140296619227744, on ClassNode 140296064779360>"
      ]
     },
     "execution_count": 42,
     "metadata": {},
     "output_type": "execute_result"
    }
   ],
   "source": [
    "allfuncs[rand_func_idx]"
   ]
  },
  {
   "cell_type": "markdown",
   "metadata": {},
   "source": [
    "## Write modified code to file.\n",
    "\n",
    "Can either write entire modified code, or just the block of code you modified."
   ]
  },
  {
   "cell_type": "code",
   "execution_count": 33,
   "metadata": {},
   "outputs": [],
   "source": [
    "# Save modified code to ipynb file\n",
    "my_utils.dump_redbaron(red, \"dump.py\")"
   ]
  },
  {
   "cell_type": "code",
   "execution_count": null,
   "metadata": {},
   "outputs": [],
   "source": []
  }
 ],
 "metadata": {
  "kernelspec": {
   "display_name": "Python 3.10.8 ('konferenv')",
   "language": "python",
   "name": "python3"
  },
  "language_info": {
   "codemirror_mode": {
    "name": "ipython",
    "version": 3
   },
   "file_extension": ".py",
   "mimetype": "text/x-python",
   "name": "python",
   "nbconvert_exporter": "python",
   "pygments_lexer": "ipython3",
   "version": "3.10.8"
  },
  "orig_nbformat": 4,
  "vscode": {
   "interpreter": {
    "hash": "7460d441b5a2df99d051490e5490331ce03b335220e9c7f658719b37819ef91b"
   }
  }
 },
 "nbformat": 4,
 "nbformat_minor": 2
}
