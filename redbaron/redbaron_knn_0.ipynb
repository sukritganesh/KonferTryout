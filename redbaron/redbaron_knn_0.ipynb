{
 "cells": [
  {
   "cell_type": "code",
   "execution_count": 25,
   "metadata": {},
   "outputs": [],
   "source": [
    "from redbaron import RedBaron, NameNode\n",
    "import gorilla\n",
    "import json\n",
    "import my_utils"
   ]
  },
  {
   "cell_type": "markdown",
   "metadata": {},
   "source": [
    "## Open KNN.py file (adapted from knn.ipynb)"
   ]
  },
  {
   "cell_type": "code",
   "execution_count": 26,
   "metadata": {},
   "outputs": [],
   "source": [
    "with open(\"../source_files/knn.py\", \"r\") as source_code:\n",
    "    red = RedBaron(source_code.read())"
   ]
  },
  {
   "cell_type": "markdown",
   "metadata": {},
   "source": [
    "## Simple experiment: Add print statement to random function (no specific querying)\n",
    "\n",
    "adds print('hello there') and print('your move') to isEnoughData, queried by name. Note: the result of a query can be queried further."
   ]
  },
  {
   "cell_type": "code",
   "execution_count": 27,
   "metadata": {},
   "outputs": [
    {
     "data": {
      "text/html": [
       "<div class=\"highlight\" style=\"background: #f8f8f8\"><pre style=\"line-height: 125%;\"><span></span><span style=\"color: #008000; font-weight: bold\">def</span> <span style=\"color: #0000FF\">isEnoughData</span>(<span style=\"color: #008000\">self</span>,df,columns):\n",
       "        <span style=\"color: #BA2121; font-style: italic\">&#39;&#39;&#39;</span>\n",
       "<span style=\"color: #BA2121; font-style: italic\">        Args:</span>\n",
       "<span style=\"color: #BA2121; font-style: italic\">            df -&gt; input dataframe</span>\n",
       "<span style=\"color: #BA2121; font-style: italic\">            columns -&gt; target feature name(list)</span>\n",
       "<span style=\"color: #BA2121; font-style: italic\">        Returns:</span>\n",
       "<span style=\"color: #BA2121; font-style: italic\">            It return True/False based on distinct value count of the target feature</span>\n",
       "<span style=\"color: #BA2121; font-style: italic\">        &#39;&#39;&#39;</span>\n",
       "        <span style=\"color: #008000; font-weight: bold\">for</span> col <span style=\"color: #AA22FF; font-weight: bold\">in</span> columns:\n",
       "            distcnt <span style=\"color: #666666\">=</span> np<span style=\"color: #666666\">.</span>count_nonzero(df[col], axis<span style=\"color: #666666\">=0</span>)\n",
       "            <span style=\"color: #008000; font-weight: bold\">if</span> (distcnt <span style=\"color: #666666\">&lt;</span> <span style=\"color: #666666\">10</span>):\n",
       "                <span style=\"color: #008000; font-weight: bold\">return</span> <span style=\"color: #008000; font-weight: bold\">False</span>\n",
       "            <span style=\"color: #3D7B7B; font-style: italic\"># sd = df[col].std()</span>\n",
       "        <span style=\"color: #008000; font-weight: bold\">return</span> <span style=\"color: #008000; font-weight: bold\">True</span>\n",
       "\n",
       "    \n",
       "</pre></div>\n"
      ],
      "text/plain": [
       "<DefNode path=[86, 'value', 6], \"def isEnoughData... \" 140545029758720, on ClassNode 140545029622896>"
      ]
     },
     "execution_count": 27,
     "metadata": {},
     "output_type": "execute_result"
    }
   ],
   "source": [
    "thefunc = red.find(\"DefNode\", name=\"isEnoughData\")\n",
    "thefunc"
   ]
  },
  {
   "cell_type": "code",
   "execution_count": 28,
   "metadata": {},
   "outputs": [
    {
     "data": {
      "text/html": [
       "<table><tr><th>Index</th><th>node</th></tr><tr><td>0</td><td><div class=\"highlight\" style=\"background: #f8f8f8\"><pre style=\"line-height: 125%;\"><span></span><span style=\"color: #008000\">self</span>\n",
       "</pre></div>\n",
       "</td></tr><tr><td>1</td><td><div class=\"highlight\" style=\"background: #f8f8f8\"><pre style=\"line-height: 125%;\"><span></span>hey\n",
       "</pre></div>\n",
       "</td></tr><tr><td>2</td><td><div class=\"highlight\" style=\"background: #f8f8f8\"><pre style=\"line-height: 125%;\"><span></span>columns\n",
       "</pre></div>\n",
       "</td></tr></table>"
      ],
      "text/plain": [
       "<CommaProxyList [86, 'value', 6, 'arguments'], \"self,hey,columns\" 140545319289376, on DefNode 140545029758720>"
      ]
     },
     "execution_count": 28,
     "metadata": {},
     "output_type": "execute_result"
    }
   ],
   "source": [
    "args = thefunc.arguments\n",
    "for a in args:\n",
    "    if (a.target.value == \"df\"):\n",
    "        a.target = \"hey\"\n",
    "args"
   ]
  },
  {
   "cell_type": "markdown",
   "metadata": {},
   "source": [
    "Print out the structure of the function."
   ]
  },
  {
   "cell_type": "code",
   "execution_count": 29,
   "metadata": {},
   "outputs": [
    {
     "name": "stdout",
     "output_type": "stream",
     "text": [
      "\u001b[38;5;148mDefNode\u001b[39m\u001b[38;5;197m(\u001b[39m\u001b[38;5;197m)\u001b[39m\n",
      "\u001b[38;5;15m  \u001b[39m\u001b[38;5;242m# identifiers: def, def_, defnode, funcdef, funcdef_\u001b[39m\n",
      "\u001b[38;5;15m  \u001b[39m\u001b[38;5;242m# default test value: name\u001b[39m\n",
      "\u001b[38;5;15m  \u001b[39m\u001b[38;5;15masync\u001b[39m\u001b[38;5;197m=\u001b[39m\u001b[38;5;186mFalse\u001b[39m\n",
      "\u001b[38;5;15m  \u001b[39m\u001b[38;5;15mname\u001b[39m\u001b[38;5;197m=\u001b[39m\u001b[38;5;186m'isEnoughData'\u001b[39m\n",
      "\u001b[38;5;15m  \u001b[39m\u001b[38;5;15mreturn_annotation\u001b[39m\u001b[38;5;15m \u001b[39m\u001b[38;5;197m->\u001b[39m\n",
      "\u001b[38;5;15m    \u001b[39m\u001b[38;5;186mNone\u001b[39m\n",
      "\u001b[38;5;15m  \u001b[39m\u001b[38;5;15mdecorators\u001b[39m\u001b[38;5;15m \u001b[39m\u001b[38;5;197m->\u001b[39m\n",
      "\u001b[38;5;15m  \u001b[39m\u001b[38;5;15marguments\u001b[39m\u001b[38;5;15m \u001b[39m\u001b[38;5;197m->\u001b[39m\n",
      "\u001b[38;5;15m    \u001b[39m\u001b[38;5;197m*\u001b[39m\u001b[38;5;81m DefArgumentNode\u001b[39m\u001b[38;5;197m(\u001b[39m\u001b[38;5;197m)\u001b[39m\n",
      "\u001b[38;5;15m        \u001b[39m\u001b[38;5;242m# identifiers: def_argument, def_argument_, defargument, defargumentnode\u001b[39m\n",
      "\u001b[38;5;15m        \u001b[39m\u001b[38;5;15mtarget\u001b[39m\u001b[38;5;15m \u001b[39m\u001b[38;5;197m->\u001b[39m\n",
      "\u001b[38;5;15m          \u001b[39m\u001b[38;5;148mNameNode\u001b[39m\u001b[38;5;197m(\u001b[39m\u001b[38;5;197m)\u001b[39m\n",
      "\u001b[38;5;15m            \u001b[39m\u001b[38;5;242m# identifiers: name, name_, namenode\u001b[39m\n",
      "\u001b[38;5;15m            \u001b[39m\u001b[38;5;15mvalue\u001b[39m\u001b[38;5;197m=\u001b[39m\u001b[38;5;186m'self'\u001b[39m\n",
      "\u001b[38;5;15m        \u001b[39m\u001b[38;5;15mannotation\u001b[39m\u001b[38;5;15m \u001b[39m\u001b[38;5;197m->\u001b[39m\n",
      "\u001b[38;5;15m          \u001b[39m\u001b[38;5;186mNone\u001b[39m\n",
      "\u001b[38;5;15m        \u001b[39m\u001b[38;5;15mvalue\u001b[39m\u001b[38;5;15m \u001b[39m\u001b[38;5;197m->\u001b[39m\n",
      "\u001b[38;5;15m          \u001b[39m\u001b[38;5;186mNone\u001b[39m\n",
      "\u001b[38;5;15m    \u001b[39m\u001b[38;5;197m*\u001b[39m\u001b[38;5;81m DefArgumentNode\u001b[39m\u001b[38;5;197m(\u001b[39m\u001b[38;5;197m)\u001b[39m\n",
      "\u001b[38;5;15m        \u001b[39m\u001b[38;5;242m# identifiers: def_argument, def_argument_, defargument, defargumentnode\u001b[39m\n",
      "\u001b[38;5;15m        \u001b[39m\u001b[38;5;15mtarget\u001b[39m\u001b[38;5;15m \u001b[39m\u001b[38;5;197m->\u001b[39m\n",
      "\u001b[38;5;15m          \u001b[39m\u001b[38;5;148mNameNode\u001b[39m\u001b[38;5;197m(\u001b[39m\u001b[38;5;197m)\u001b[39m\n",
      "\u001b[38;5;15m            \u001b[39m\u001b[38;5;242m# identifiers: name, name_, namenode\u001b[39m\n",
      "\u001b[38;5;15m            \u001b[39m\u001b[38;5;15mvalue\u001b[39m\u001b[38;5;197m=\u001b[39m\u001b[38;5;186m'hey'\u001b[39m\n",
      "\u001b[38;5;15m        \u001b[39m\u001b[38;5;15mannotation\u001b[39m\u001b[38;5;15m \u001b[39m\u001b[38;5;197m->\u001b[39m\n",
      "\u001b[38;5;15m          \u001b[39m\u001b[38;5;186mNone\u001b[39m\n",
      "\u001b[38;5;15m        \u001b[39m\u001b[38;5;15mvalue\u001b[39m\u001b[38;5;15m \u001b[39m\u001b[38;5;197m->\u001b[39m\n",
      "\u001b[38;5;15m          \u001b[39m\u001b[38;5;186mNone\u001b[39m\n",
      "\u001b[38;5;15m    \u001b[39m\u001b[38;5;197m*\u001b[39m\u001b[38;5;81m DefArgumentNode\u001b[39m\u001b[38;5;197m(\u001b[39m\u001b[38;5;197m)\u001b[39m\n",
      "\u001b[38;5;15m        \u001b[39m\u001b[38;5;242m# identifiers: def_argument, def_argument_, defargument, defargumentnode\u001b[39m\n",
      "\u001b[38;5;15m        \u001b[39m\u001b[38;5;15mtarget\u001b[39m\u001b[38;5;15m \u001b[39m\u001b[38;5;197m->\u001b[39m\n",
      "\u001b[38;5;15m          \u001b[39m\u001b[38;5;148mNameNode\u001b[39m\u001b[38;5;197m(\u001b[39m\u001b[38;5;197m)\u001b[39m\n",
      "\u001b[38;5;15m            \u001b[39m\u001b[38;5;242m# identifiers: name, name_, namenode\u001b[39m\n",
      "\u001b[38;5;15m            \u001b[39m\u001b[38;5;15mvalue\u001b[39m\u001b[38;5;197m=\u001b[39m\u001b[38;5;186m'columns'\u001b[39m\n",
      "\u001b[38;5;15m        \u001b[39m\u001b[38;5;15mannotation\u001b[39m\u001b[38;5;15m \u001b[39m\u001b[38;5;197m->\u001b[39m\n",
      "\u001b[38;5;15m          \u001b[39m\u001b[38;5;186mNone\u001b[39m\n",
      "\u001b[38;5;15m        \u001b[39m\u001b[38;5;15mvalue\u001b[39m\u001b[38;5;15m \u001b[39m\u001b[38;5;197m->\u001b[39m\n",
      "\u001b[38;5;15m          \u001b[39m\u001b[38;5;186mNone\u001b[39m\n",
      "\u001b[38;5;15m  \u001b[39m\u001b[38;5;15mvalue\u001b[39m\u001b[38;5;15m \u001b[39m\u001b[38;5;197m->\u001b[39m\n",
      "\u001b[38;5;15m    \u001b[39m\u001b[38;5;197m*\u001b[39m\u001b[38;5;81m StringNode\u001b[39m\u001b[38;5;197m(\u001b[39m\u001b[38;5;197m)\u001b[39m\n",
      "\u001b[38;5;15m        \u001b[39m\u001b[38;5;242m# identifiers: string, string_, stringnode\u001b[39m\n",
      "\u001b[38;5;15m        \u001b[39m\u001b[38;5;15mvalue\u001b[39m\u001b[38;5;197m=\u001b[39m\u001b[38;5;186m\"'''\\n        Args:\\n            df -> input dataframe\\n            columns -> target feature name(list)\\n        Returns:\\n            It return True/False based on distinct value count of the target feature\\n        '''\"\u001b[39m\n",
      "\u001b[38;5;15m    \u001b[39m\u001b[38;5;197m*\u001b[39m\u001b[38;5;81m ForNode\u001b[39m\u001b[38;5;197m(\u001b[39m\u001b[38;5;197m)\u001b[39m\n",
      "\u001b[38;5;15m        \u001b[39m\u001b[38;5;242m# identifiers: for, for_, fornode\u001b[39m\n",
      "\u001b[38;5;15m        \u001b[39m\u001b[38;5;15masync\u001b[39m\u001b[38;5;197m=\u001b[39m\u001b[38;5;186mFalse\u001b[39m\n",
      "\u001b[38;5;15m        \u001b[39m\u001b[38;5;15miterator\u001b[39m\u001b[38;5;15m \u001b[39m\u001b[38;5;197m->\u001b[39m\n",
      "\u001b[38;5;15m          \u001b[39m\u001b[38;5;148mNameNode\u001b[39m\u001b[38;5;197m(\u001b[39m\u001b[38;5;197m)\u001b[39m\n",
      "\u001b[38;5;15m            \u001b[39m\u001b[38;5;242m# identifiers: name, name_, namenode\u001b[39m\n",
      "\u001b[38;5;15m            \u001b[39m\u001b[38;5;15mvalue\u001b[39m\u001b[38;5;197m=\u001b[39m\u001b[38;5;186m'col'\u001b[39m\n",
      "\u001b[38;5;15m        \u001b[39m\u001b[38;5;15mtarget\u001b[39m\u001b[38;5;15m \u001b[39m\u001b[38;5;197m->\u001b[39m\n",
      "\u001b[38;5;15m          \u001b[39m\u001b[38;5;148mNameNode\u001b[39m\u001b[38;5;197m(\u001b[39m\u001b[38;5;197m)\u001b[39m\n",
      "\u001b[38;5;15m            \u001b[39m\u001b[38;5;242m# identifiers: name, name_, namenode\u001b[39m\n",
      "\u001b[38;5;15m            \u001b[39m\u001b[38;5;15mvalue\u001b[39m\u001b[38;5;197m=\u001b[39m\u001b[38;5;186m'columns'\u001b[39m\n",
      "\u001b[38;5;15m        \u001b[39m\u001b[38;5;15melse\u001b[39m\u001b[38;5;15m \u001b[39m\u001b[38;5;197m->\u001b[39m\n",
      "\u001b[38;5;15m          \u001b[39m\u001b[38;5;186mNone\u001b[39m\n",
      "\u001b[38;5;15m        \u001b[39m\u001b[38;5;15mvalue\u001b[39m\u001b[38;5;15m \u001b[39m\u001b[38;5;197m->\u001b[39m\n",
      "\u001b[38;5;15m          \u001b[39m\u001b[38;5;197m*\u001b[39m\u001b[38;5;81m AssignmentNode\u001b[39m\u001b[38;5;197m(\u001b[39m\u001b[38;5;197m)\u001b[39m\n",
      "\u001b[38;5;15m              \u001b[39m\u001b[38;5;242m# identifiers: assign, assignment, assignment_, assignmentnode\u001b[39m\n",
      "\u001b[38;5;15m              \u001b[39m\u001b[38;5;15moperator\u001b[39m\u001b[38;5;197m=\u001b[39m\u001b[38;5;186m''\u001b[39m\n",
      "\u001b[38;5;15m              \u001b[39m\u001b[38;5;15mtarget\u001b[39m\u001b[38;5;15m \u001b[39m\u001b[38;5;197m->\u001b[39m\n",
      "\u001b[38;5;15m                \u001b[39m\u001b[38;5;148mNameNode\u001b[39m\u001b[38;5;197m(\u001b[39m\u001b[38;5;197m)\u001b[39m\n",
      "\u001b[38;5;15m                  \u001b[39m\u001b[38;5;242m# identifiers: name, name_, namenode\u001b[39m\n",
      "\u001b[38;5;15m                  \u001b[39m\u001b[38;5;15mvalue\u001b[39m\u001b[38;5;197m=\u001b[39m\u001b[38;5;186m'distcnt'\u001b[39m\n",
      "\u001b[38;5;15m              \u001b[39m\u001b[38;5;15mannotation\u001b[39m\u001b[38;5;15m \u001b[39m\u001b[38;5;197m->\u001b[39m\n",
      "\u001b[38;5;15m                \u001b[39m\u001b[38;5;186mNone\u001b[39m\n",
      "\u001b[38;5;15m              \u001b[39m\u001b[38;5;15mvalue\u001b[39m\u001b[38;5;15m \u001b[39m\u001b[38;5;197m->\u001b[39m\n",
      "\u001b[38;5;15m                \u001b[39m\u001b[38;5;148mAtomtrailersNode\u001b[39m\u001b[38;5;197m(\u001b[39m\u001b[38;5;197m)\u001b[39m\n",
      "\u001b[38;5;15m                  \u001b[39m\u001b[38;5;242m# identifiers: atomtrailers, atomtrailers_, atomtrailersnode\u001b[39m\n",
      "\u001b[38;5;15m                  \u001b[39m\u001b[38;5;15mvalue\u001b[39m\u001b[38;5;15m \u001b[39m\u001b[38;5;197m->\u001b[39m\n",
      "\u001b[38;5;15m                    \u001b[39m\u001b[38;5;197m*\u001b[39m\u001b[38;5;81m NameNode\u001b[39m\u001b[38;5;197m(\u001b[39m\u001b[38;5;197m)\u001b[39m\n",
      "\u001b[38;5;15m                        \u001b[39m\u001b[38;5;242m# identifiers: name, name_, namenode\u001b[39m\n",
      "\u001b[38;5;15m                        \u001b[39m\u001b[38;5;15mvalue\u001b[39m\u001b[38;5;197m=\u001b[39m\u001b[38;5;186m'np'\u001b[39m\n",
      "\u001b[38;5;15m                    \u001b[39m\u001b[38;5;197m*\u001b[39m\u001b[38;5;81m NameNode\u001b[39m\u001b[38;5;197m(\u001b[39m\u001b[38;5;197m)\u001b[39m\n",
      "\u001b[38;5;15m                        \u001b[39m\u001b[38;5;242m# identifiers: name, name_, namenode\u001b[39m\n",
      "\u001b[38;5;15m                        \u001b[39m\u001b[38;5;15mvalue\u001b[39m\u001b[38;5;197m=\u001b[39m\u001b[38;5;186m'count_nonzero'\u001b[39m\n",
      "\u001b[38;5;15m                    \u001b[39m\u001b[38;5;197m*\u001b[39m\u001b[38;5;81m CallNode\u001b[39m\u001b[38;5;197m(\u001b[39m\u001b[38;5;197m)\u001b[39m\n",
      "\u001b[38;5;15m                        \u001b[39m\u001b[38;5;242m# identifiers: call, call_, callnode\u001b[39m\n",
      "\u001b[38;5;15m                        \u001b[39m\u001b[38;5;15mvalue\u001b[39m\u001b[38;5;15m \u001b[39m\u001b[38;5;197m->\u001b[39m\n",
      "\u001b[38;5;15m                          \u001b[39m\u001b[38;5;197m*\u001b[39m\u001b[38;5;81m CallArgumentNode\u001b[39m\u001b[38;5;197m(\u001b[39m\u001b[38;5;197m)\u001b[39m\n",
      "\u001b[38;5;15m                              \u001b[39m\u001b[38;5;242m# identifiers: call_argument, call_argument_, callargument, callargumentnode\u001b[39m\n",
      "\u001b[38;5;15m                              \u001b[39m\u001b[38;5;15mtarget\u001b[39m\u001b[38;5;15m \u001b[39m\u001b[38;5;197m->\u001b[39m\n",
      "\u001b[38;5;15m                                \u001b[39m\u001b[38;5;186mNone\u001b[39m\n",
      "\u001b[38;5;15m                              \u001b[39m\u001b[38;5;15mvalue\u001b[39m\u001b[38;5;15m \u001b[39m\u001b[38;5;197m->\u001b[39m\n",
      "\u001b[38;5;15m                                \u001b[39m\u001b[38;5;148mAtomtrailersNode\u001b[39m\u001b[38;5;197m(\u001b[39m\u001b[38;5;197m)\u001b[39m\n",
      "\u001b[38;5;15m                                  \u001b[39m\u001b[38;5;242m# identifiers: atomtrailers, atomtrailers_, atomtrailersnode\u001b[39m\n",
      "\u001b[38;5;15m                                  \u001b[39m\u001b[38;5;15mvalue\u001b[39m\u001b[38;5;15m \u001b[39m\u001b[38;5;197m->\u001b[39m\n",
      "\u001b[38;5;15m                                    \u001b[39m\u001b[38;5;197m*\u001b[39m\u001b[38;5;81m NameNode\u001b[39m\u001b[38;5;197m(\u001b[39m\u001b[38;5;197m)\u001b[39m\n",
      "\u001b[38;5;15m                                        \u001b[39m\u001b[38;5;242m# identifiers: name, name_, namenode\u001b[39m\n",
      "\u001b[38;5;15m                                        \u001b[39m\u001b[38;5;15mvalue\u001b[39m\u001b[38;5;197m=\u001b[39m\u001b[38;5;186m'df'\u001b[39m\n",
      "\u001b[38;5;15m                                    \u001b[39m\u001b[38;5;197m*\u001b[39m\u001b[38;5;81m GetitemNode\u001b[39m\u001b[38;5;197m(\u001b[39m\u001b[38;5;197m)\u001b[39m\n",
      "\u001b[38;5;15m                                        \u001b[39m\u001b[38;5;242m# identifiers: getitem, getitem_, getitemnode\u001b[39m\n",
      "\u001b[38;5;15m                                        \u001b[39m\u001b[38;5;15mvalue\u001b[39m\u001b[38;5;15m \u001b[39m\u001b[38;5;197m->\u001b[39m\n",
      "\u001b[38;5;15m                                          \u001b[39m\u001b[38;5;148mNameNode\u001b[39m\u001b[38;5;197m(\u001b[39m\u001b[38;5;197m)\u001b[39m\n",
      "\u001b[38;5;15m                                            \u001b[39m\u001b[38;5;242m# identifiers: name, name_, namenode\u001b[39m\n",
      "\u001b[38;5;15m                                            \u001b[39m\u001b[38;5;15mvalue\u001b[39m\u001b[38;5;197m=\u001b[39m\u001b[38;5;186m'col'\u001b[39m\n",
      "\u001b[38;5;15m                          \u001b[39m\u001b[38;5;197m*\u001b[39m\u001b[38;5;81m CallArgumentNode\u001b[39m\u001b[38;5;197m(\u001b[39m\u001b[38;5;197m)\u001b[39m\n",
      "\u001b[38;5;15m                              \u001b[39m\u001b[38;5;242m# identifiers: call_argument, call_argument_, callargument, callargumentnode\u001b[39m\n",
      "\u001b[38;5;15m                              \u001b[39m\u001b[38;5;15mtarget\u001b[39m\u001b[38;5;15m \u001b[39m\u001b[38;5;197m->\u001b[39m\n",
      "\u001b[38;5;15m                                \u001b[39m\u001b[38;5;148mNameNode\u001b[39m\u001b[38;5;197m(\u001b[39m\u001b[38;5;197m)\u001b[39m\n",
      "\u001b[38;5;15m                                  \u001b[39m\u001b[38;5;242m# identifiers: name, name_, namenode\u001b[39m\n",
      "\u001b[38;5;15m                                  \u001b[39m\u001b[38;5;15mvalue\u001b[39m\u001b[38;5;197m=\u001b[39m\u001b[38;5;186m'axis'\u001b[39m\n",
      "\u001b[38;5;15m                              \u001b[39m\u001b[38;5;15mvalue\u001b[39m\u001b[38;5;15m \u001b[39m\u001b[38;5;197m->\u001b[39m\n",
      "\u001b[38;5;15m                                \u001b[39m\u001b[38;5;148mIntNode\u001b[39m\u001b[38;5;197m(\u001b[39m\u001b[38;5;197m)\u001b[39m\n",
      "\u001b[38;5;15m                                  \u001b[39m\u001b[38;5;242m# identifiers: int, int_, intnode\u001b[39m\n",
      "\u001b[38;5;15m                                  \u001b[39m\u001b[38;5;15mvalue\u001b[39m\u001b[38;5;197m=\u001b[39m\u001b[38;5;186m'0'\u001b[39m\n",
      "\u001b[38;5;15m          \u001b[39m\u001b[38;5;197m*\u001b[39m\u001b[38;5;81m IfelseblockNode\u001b[39m\u001b[38;5;197m(\u001b[39m\u001b[38;5;197m)\u001b[39m\n",
      "\u001b[38;5;15m              \u001b[39m\u001b[38;5;242m# identifiers: ifelseblock, ifelseblock_, ifelseblocknode\u001b[39m\n",
      "\u001b[38;5;15m              \u001b[39m\u001b[38;5;15mvalue\u001b[39m\u001b[38;5;15m \u001b[39m\u001b[38;5;197m->\u001b[39m\n",
      "\u001b[38;5;15m                \u001b[39m\u001b[38;5;197m*\u001b[39m\u001b[38;5;81m IfNode\u001b[39m\u001b[38;5;197m(\u001b[39m\u001b[38;5;197m)\u001b[39m\n",
      "\u001b[38;5;15m                    \u001b[39m\u001b[38;5;242m# identifiers: if, if_, ifnode\u001b[39m\n",
      "\u001b[38;5;15m                    \u001b[39m\u001b[38;5;15mtest\u001b[39m\u001b[38;5;15m \u001b[39m\u001b[38;5;197m->\u001b[39m\n",
      "\u001b[38;5;15m                      \u001b[39m\u001b[38;5;148mAssociativeParenthesisNode\u001b[39m\u001b[38;5;197m(\u001b[39m\u001b[38;5;197m)\u001b[39m\n",
      "\u001b[38;5;15m                        \u001b[39m\u001b[38;5;242m# identifiers: associative_parenthesis, associative_parenthesis_, associativeparenthesis, associativeparenthesisnode\u001b[39m\n",
      "\u001b[38;5;15m                        \u001b[39m\u001b[38;5;15mvalue\u001b[39m\u001b[38;5;15m \u001b[39m\u001b[38;5;197m->\u001b[39m\n",
      "\u001b[38;5;15m                          \u001b[39m\u001b[38;5;148mComparisonNode\u001b[39m\u001b[38;5;197m(\u001b[39m\u001b[38;5;197m)\u001b[39m\n",
      "\u001b[38;5;15m                            \u001b[39m\u001b[38;5;242m# identifiers: comparison, comparison_, comparisonnode\u001b[39m\n",
      "\u001b[38;5;15m                            \u001b[39m\u001b[38;5;15mfirst\u001b[39m\u001b[38;5;15m \u001b[39m\u001b[38;5;197m->\u001b[39m\n",
      "\u001b[38;5;15m                              \u001b[39m\u001b[38;5;148mNameNode\u001b[39m\u001b[38;5;197m(\u001b[39m\u001b[38;5;197m)\u001b[39m\n",
      "\u001b[38;5;15m                                \u001b[39m\u001b[38;5;242m# identifiers: name, name_, namenode\u001b[39m\n",
      "\u001b[38;5;15m                                \u001b[39m\u001b[38;5;15mvalue\u001b[39m\u001b[38;5;197m=\u001b[39m\u001b[38;5;186m'distcnt'\u001b[39m\n",
      "\u001b[38;5;15m                            \u001b[39m\u001b[38;5;15mvalue\u001b[39m\u001b[38;5;15m \u001b[39m\u001b[38;5;197m->\u001b[39m\n",
      "\u001b[38;5;15m                              \u001b[39m\u001b[38;5;148mComparisonOperatorNode\u001b[39m\u001b[38;5;197m(\u001b[39m\u001b[38;5;197m)\u001b[39m\n",
      "\u001b[38;5;15m                                \u001b[39m\u001b[38;5;242m# identifiers: comparison_operator, comparison_operator_, comparisonoperator, comparisonoperatornode\u001b[39m\n",
      "\u001b[38;5;15m                                \u001b[39m\u001b[38;5;15mfirst\u001b[39m\u001b[38;5;197m=\u001b[39m\u001b[38;5;186m'<'\u001b[39m\n",
      "\u001b[38;5;15m                                \u001b[39m\u001b[38;5;15msecond\u001b[39m\u001b[38;5;197m=\u001b[39m\u001b[38;5;186m''\u001b[39m\n",
      "\u001b[38;5;15m                            \u001b[39m\u001b[38;5;15msecond\u001b[39m\u001b[38;5;15m \u001b[39m\u001b[38;5;197m->\u001b[39m\n",
      "\u001b[38;5;15m                              \u001b[39m\u001b[38;5;148mIntNode\u001b[39m\u001b[38;5;197m(\u001b[39m\u001b[38;5;197m)\u001b[39m\n",
      "\u001b[38;5;15m                                \u001b[39m\u001b[38;5;242m# identifiers: int, int_, intnode\u001b[39m\n",
      "\u001b[38;5;15m                                \u001b[39m\u001b[38;5;15mvalue\u001b[39m\u001b[38;5;197m=\u001b[39m\u001b[38;5;186m'10'\u001b[39m\n",
      "\u001b[38;5;15m                    \u001b[39m\u001b[38;5;15mvalue\u001b[39m\u001b[38;5;15m \u001b[39m\u001b[38;5;197m->\u001b[39m\n",
      "\u001b[38;5;15m                      \u001b[39m\u001b[38;5;197m*\u001b[39m\u001b[38;5;81m ReturnNode\u001b[39m\u001b[38;5;197m(\u001b[39m\u001b[38;5;197m)\u001b[39m\n",
      "\u001b[38;5;15m                          \u001b[39m\u001b[38;5;242m# identifiers: return, return_, returnnode\u001b[39m\n",
      "\u001b[38;5;15m                          \u001b[39m\u001b[38;5;15mvalue\u001b[39m\u001b[38;5;15m \u001b[39m\u001b[38;5;197m->\u001b[39m\n",
      "\u001b[38;5;15m                            \u001b[39m\u001b[38;5;148mNameNode\u001b[39m\u001b[38;5;197m(\u001b[39m\u001b[38;5;197m)\u001b[39m\n",
      "\u001b[38;5;15m                              \u001b[39m\u001b[38;5;242m# identifiers: name, name_, namenode\u001b[39m\n",
      "\u001b[38;5;15m                              \u001b[39m\u001b[38;5;15mvalue\u001b[39m\u001b[38;5;197m=\u001b[39m\u001b[38;5;186m'False'\u001b[39m\n",
      "\u001b[38;5;15m                      \u001b[39m\u001b[38;5;197m*\u001b[39m\u001b[38;5;81m CommentNode\u001b[39m\u001b[38;5;197m(\u001b[39m\u001b[38;5;197m)\u001b[39m\n",
      "\u001b[38;5;15m                          \u001b[39m\u001b[38;5;242m# identifiers: comment, comment_, commentnode\u001b[39m\n",
      "\u001b[38;5;15m                          \u001b[39m\u001b[38;5;15mvalue\u001b[39m\u001b[38;5;197m=\u001b[39m\u001b[38;5;186m'# sd = df[col].std()'\u001b[39m\n",
      "\u001b[38;5;15m    \u001b[39m\u001b[38;5;197m*\u001b[39m\u001b[38;5;81m ReturnNode\u001b[39m\u001b[38;5;197m(\u001b[39m\u001b[38;5;197m)\u001b[39m\n",
      "\u001b[38;5;15m        \u001b[39m\u001b[38;5;242m# identifiers: return, return_, returnnode\u001b[39m\n",
      "\u001b[38;5;15m        \u001b[39m\u001b[38;5;15mvalue\u001b[39m\u001b[38;5;15m \u001b[39m\u001b[38;5;197m->\u001b[39m\n",
      "\u001b[38;5;15m          \u001b[39m\u001b[38;5;148mNameNode\u001b[39m\u001b[38;5;197m(\u001b[39m\u001b[38;5;197m)\u001b[39m\n",
      "\u001b[38;5;15m            \u001b[39m\u001b[38;5;242m# identifiers: name, name_, namenode\u001b[39m\n",
      "\u001b[38;5;15m            \u001b[39m\u001b[38;5;15mvalue\u001b[39m\u001b[38;5;197m=\u001b[39m\u001b[38;5;186m'True'\u001b[39m\n",
      "\u001b[38;5;15m    \u001b[39m\u001b[38;5;197m*\u001b[39m\u001b[38;5;81m EndlNode\u001b[39m\u001b[38;5;197m(\u001b[39m\u001b[38;5;197m)\u001b[39m\n",
      "\u001b[38;5;15m        \u001b[39m\u001b[38;5;242m# identifiers: endl, endl_, endlnode\u001b[39m\n",
      "\u001b[38;5;15m        \u001b[39m\u001b[38;5;15mvalue\u001b[39m\u001b[38;5;197m=\u001b[39m\u001b[38;5;186m'\\n'\u001b[39m\n",
      "\u001b[38;5;15m        \u001b[39m\u001b[38;5;15mindent\u001b[39m\u001b[38;5;197m=\u001b[39m\u001b[38;5;186m'    '\u001b[39m\n"
     ]
    }
   ],
   "source": [
    "thefunc.help(-1)"
   ]
  },
  {
   "cell_type": "markdown",
   "metadata": {},
   "source": [
    "The value of the function refers to the body of the function, where each component is a value (comment block, for loop, and return statement). We can add a print statement to this list of values later. A value can either be just one line of code, or many lines of code contained within a block (ex. a loop)."
   ]
  },
  {
   "cell_type": "code",
   "execution_count": 30,
   "metadata": {},
   "outputs": [
    {
     "data": {
      "text/html": [
       "<table><tr><th>Index</th><th>node</th></tr><tr><td>0</td><td><div class=\"highlight\" style=\"background: #f8f8f8\"><pre style=\"line-height: 125%;\"><span></span><span style=\"color: #BA2121; font-style: italic\">&#39;&#39;&#39;</span>\n",
       "<span style=\"color: #BA2121; font-style: italic\">        Args:</span>\n",
       "<span style=\"color: #BA2121; font-style: italic\">            df -&gt; input dataframe</span>\n",
       "<span style=\"color: #BA2121; font-style: italic\">            columns -&gt; target feature name(list)</span>\n",
       "<span style=\"color: #BA2121; font-style: italic\">        Returns:</span>\n",
       "<span style=\"color: #BA2121; font-style: italic\">            It return True/False based on distinct value count of the target feature</span>\n",
       "<span style=\"color: #BA2121; font-style: italic\">        &#39;&#39;&#39;</span>\n",
       "</pre></div>\n",
       "</td></tr><tr><td>1</td><td><div class=\"highlight\" style=\"background: #f8f8f8\"><pre style=\"line-height: 125%;\"><span></span><span style=\"color: #008000; font-weight: bold\">for</span> col <span style=\"color: #AA22FF; font-weight: bold\">in</span> columns:\n",
       "            distcnt <span style=\"color: #666666\">=</span> np<span style=\"color: #666666\">.</span>count_nonzero(df[col], axis<span style=\"color: #666666\">=0</span>)\n",
       "            <span style=\"color: #008000; font-weight: bold\">if</span> (distcnt <span style=\"color: #666666\">&lt;</span> <span style=\"color: #666666\">10</span>):\n",
       "                <span style=\"color: #008000; font-weight: bold\">return</span> <span style=\"color: #008000; font-weight: bold\">False</span>\n",
       "            <span style=\"color: #3D7B7B; font-style: italic\"># sd = df[col].std()</span>\n",
       "        \n",
       "</pre></div>\n",
       "</td></tr><tr><td>2</td><td><div class=\"highlight\" style=\"background: #f8f8f8\"><pre style=\"line-height: 125%;\"><span></span><span style=\"color: #008000; font-weight: bold\">return</span> <span style=\"color: #008000; font-weight: bold\">True</span>\n",
       "</pre></div>\n",
       "</td></tr><tr><td>3</td><td><div class=\"highlight\" style=\"background: #f8f8f8\"><pre style=\"line-height: 125%;\"><span></span><span style=\"color: #BA2121\">&#39;</span><span style=\"color: #AA5D1F; font-weight: bold\">\\n</span><span style=\"color: #BA2121\">    &#39;</span>\n",
       "</pre></div>\n",
       "</td></tr></table>"
      ],
      "text/plain": [
       "<LineProxyList [86, 'value', 6, 'value'], \"\\n        '''\\n ... \" 140545319456336, on DefNode 140545029758720>"
      ]
     },
     "execution_count": 30,
     "metadata": {},
     "output_type": "execute_result"
    }
   ],
   "source": [
    "thefunc.value"
   ]
  },
  {
   "cell_type": "markdown",
   "metadata": {},
   "source": [
    "Add a basic print statement between the comment and the actual function code. The contents of the function are contained within the \"values\" list (an attribute of every Node in the RedBaron AST). RedBaron will automatically parse the python code and add it to the list of values (of course, the added line of code will itself be a small tree, with the root of that tree being added as a value)."
   ]
  },
  {
   "cell_type": "code",
   "execution_count": 31,
   "metadata": {},
   "outputs": [],
   "source": [
    "thefunc.value.insert(1, \"print('your move')\")\n",
    "thefunc.value.insert(1, \"print('hello there')\")"
   ]
  },
  {
   "cell_type": "code",
   "execution_count": 32,
   "metadata": {},
   "outputs": [
    {
     "data": {
      "text/html": [
       "<div class=\"highlight\" style=\"background: #f8f8f8\"><pre style=\"line-height: 125%;\"><span></span><span style=\"color: #008000; font-weight: bold\">def</span> <span style=\"color: #0000FF\">isEnoughData</span>(<span style=\"color: #008000\">self</span>,hey,columns):\n",
       "        <span style=\"color: #BA2121; font-style: italic\">&#39;&#39;&#39;</span>\n",
       "<span style=\"color: #BA2121; font-style: italic\">        Args:</span>\n",
       "<span style=\"color: #BA2121; font-style: italic\">            df -&gt; input dataframe</span>\n",
       "<span style=\"color: #BA2121; font-style: italic\">            columns -&gt; target feature name(list)</span>\n",
       "<span style=\"color: #BA2121; font-style: italic\">        Returns:</span>\n",
       "<span style=\"color: #BA2121; font-style: italic\">            It return True/False based on distinct value count of the target feature</span>\n",
       "<span style=\"color: #BA2121; font-style: italic\">        &#39;&#39;&#39;</span>\n",
       "        <span style=\"color: #008000\">print</span>(<span style=\"color: #BA2121\">&#39;hello there&#39;</span>)\n",
       "        <span style=\"color: #008000\">print</span>(<span style=\"color: #BA2121\">&#39;your move&#39;</span>)\n",
       "        <span style=\"color: #008000; font-weight: bold\">for</span> col <span style=\"color: #AA22FF; font-weight: bold\">in</span> columns:\n",
       "            distcnt <span style=\"color: #666666\">=</span> np<span style=\"color: #666666\">.</span>count_nonzero(df[col], axis<span style=\"color: #666666\">=0</span>)\n",
       "            <span style=\"color: #008000; font-weight: bold\">if</span> (distcnt <span style=\"color: #666666\">&lt;</span> <span style=\"color: #666666\">10</span>):\n",
       "                <span style=\"color: #008000; font-weight: bold\">return</span> <span style=\"color: #008000; font-weight: bold\">False</span>\n",
       "            <span style=\"color: #3D7B7B; font-style: italic\"># sd = df[col].std()</span>\n",
       "        <span style=\"color: #008000; font-weight: bold\">return</span> <span style=\"color: #008000; font-weight: bold\">True</span>\n",
       "\n",
       "    \n",
       "</pre></div>\n"
      ],
      "text/plain": [
       "<DefNode path=[86, 'value', 6], \"def isEnoughData... \" 140545029758720, on ClassNode 140545029622896>"
      ]
     },
     "execution_count": 32,
     "metadata": {},
     "output_type": "execute_result"
    }
   ],
   "source": [
    "thefunc"
   ]
  },
  {
   "cell_type": "markdown",
   "metadata": {},
   "source": [
    "## Write modified code to file.\n",
    "\n",
    "Can either write entire modified code, or just the block of code you modified."
   ]
  },
  {
   "cell_type": "code",
   "execution_count": 33,
   "metadata": {},
   "outputs": [],
   "source": [
    "# Save modified code to ipynb file\n",
    "my_utils.dump_redbaron(red, \"dump.py\")"
   ]
  },
  {
   "cell_type": "code",
   "execution_count": null,
   "metadata": {},
   "outputs": [],
   "source": []
  }
 ],
 "metadata": {
  "kernelspec": {
   "display_name": "Python 3.10.8 ('konferenv')",
   "language": "python",
   "name": "python3"
  },
  "language_info": {
   "codemirror_mode": {
    "name": "ipython",
    "version": 3
   },
   "file_extension": ".py",
   "mimetype": "text/x-python",
   "name": "python",
   "nbconvert_exporter": "python",
   "pygments_lexer": "ipython3",
   "version": "3.10.8"
  },
  "orig_nbformat": 4,
  "vscode": {
   "interpreter": {
    "hash": "7460d441b5a2df99d051490e5490331ce03b335220e9c7f658719b37819ef91b"
   }
  }
 },
 "nbformat": 4,
 "nbformat_minor": 2
}
