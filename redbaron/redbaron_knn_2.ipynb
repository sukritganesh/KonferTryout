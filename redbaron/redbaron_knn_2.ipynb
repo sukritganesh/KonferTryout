{
 "cells": [
  {
   "cell_type": "code",
   "execution_count": 14,
   "metadata": {},
   "outputs": [],
   "source": [
    "from redbaron import RedBaron, NameNode\n",
    "import gorilla\n",
    "import json\n",
    "import my_utils\n",
    "import numpy as np"
   ]
  },
  {
   "cell_type": "markdown",
   "metadata": {},
   "source": [
    "## Open KNN.py file (adapted from knn.ipynb)"
   ]
  },
  {
   "cell_type": "code",
   "execution_count": 15,
   "metadata": {},
   "outputs": [],
   "source": [
    "with open(\"../source_files/knn.py\", \"r\") as source_code:\n",
    "    red = RedBaron(source_code.read())"
   ]
  },
  {
   "attachments": {},
   "cell_type": "markdown",
   "metadata": {},
   "source": [
    "# Time Every Function.\n",
    "\n",
    "Must add an import time statement at the top of the program, then add the following three lines:\n",
    "\n",
    "start_time = time.time()\n",
    "\n",
    "end_time = time.time()\n",
    "total_time = end_time - start_time\n",
    "print(\"Total time for \" + function_name + \": \" + str(total_time))\n",
    "\n",
    "Note: function name can easily be extracted."
   ]
  },
  {
   "cell_type": "code",
   "execution_count": 16,
   "metadata": {},
   "outputs": [
    {
     "ename": "AttributeError",
     "evalue": "NodeList instance has no attribute 'value' and 'value' is not a valid identifier of another node",
     "output_type": "error",
     "traceback": [
      "\u001b[0;31m---------------------------------------------------------------------------\u001b[0m",
      "\u001b[0;31mAttributeError\u001b[0m                            Traceback (most recent call last)",
      "Cell \u001b[0;32mIn [16], line 1\u001b[0m\n\u001b[0;32m----> 1\u001b[0m red\u001b[39m.\u001b[39;49mvalue\u001b[39m.\u001b[39minsert(\u001b[39m0\u001b[39m, \u001b[39m\"\u001b[39m\u001b[39mimport time\u001b[39m\u001b[39m\"\u001b[39m)\n",
      "File \u001b[0;32m~/opt/anaconda3/envs/konferenv/lib/python3.10/site-packages/redbaron/base_nodes.py:1528\u001b[0m, in \u001b[0;36mProxyList.__getattr__\u001b[0;34m(self, key)\u001b[0m\n\u001b[1;32m   1527\u001b[0m \u001b[39mdef\u001b[39;00m \u001b[39m__getattr__\u001b[39m(\u001b[39mself\u001b[39m, key):\n\u001b[0;32m-> 1528\u001b[0m     \u001b[39mreturn\u001b[39;00m \u001b[39mgetattr\u001b[39;49m(\u001b[39mself\u001b[39;49m\u001b[39m.\u001b[39;49mnode_list, key)\n",
      "File \u001b[0;32m~/opt/anaconda3/envs/konferenv/lib/python3.10/site-packages/redbaron/base_nodes.py:345\u001b[0m, in \u001b[0;36mNodeList.__getattr__\u001b[0;34m(self, key)\u001b[0m\n\u001b[1;32m    343\u001b[0m \u001b[39mdef\u001b[39;00m \u001b[39m__getattr__\u001b[39m(\u001b[39mself\u001b[39m, key):\n\u001b[1;32m    344\u001b[0m     \u001b[39mif\u001b[39;00m key \u001b[39mnot\u001b[39;00m \u001b[39min\u001b[39;00m redbaron\u001b[39m.\u001b[39mALL_IDENTIFIERS:\n\u001b[0;32m--> 345\u001b[0m         \u001b[39mraise\u001b[39;00m \u001b[39mAttributeError\u001b[39;00m(\n\u001b[1;32m    346\u001b[0m             \u001b[39m\"\u001b[39m\u001b[39m%s\u001b[39;00m\u001b[39m instance has no attribute \u001b[39m\u001b[39m'\u001b[39m\u001b[39m%s\u001b[39;00m\u001b[39m'\u001b[39m\u001b[39m and \u001b[39m\u001b[39m'\u001b[39m\u001b[39m%s\u001b[39;00m\u001b[39m'\u001b[39m\u001b[39m is not a valid identifier of another node\u001b[39m\u001b[39m\"\u001b[39m \u001b[39m%\u001b[39m (\n\u001b[1;32m    347\u001b[0m                 \u001b[39mself\u001b[39m\u001b[39m.\u001b[39m\u001b[39m__class__\u001b[39m\u001b[39m.\u001b[39m\u001b[39m__name__\u001b[39m, key, key))\n\u001b[1;32m    349\u001b[0m     \u001b[39mreturn\u001b[39;00m \u001b[39mself\u001b[39m\u001b[39m.\u001b[39mfind(key)\n",
      "\u001b[0;31mAttributeError\u001b[0m: NodeList instance has no attribute 'value' and 'value' is not a valid identifier of another node"
     ]
    }
   ],
   "source": [
    "red.insert(0, \"import time\")"
   ]
  },
  {
   "cell_type": "code",
   "execution_count": null,
   "metadata": {},
   "outputs": [
    {
     "data": {
      "text/html": [
       "<div class=\"highlight\" style=\"background: #f8f8f8\"><pre style=\"line-height: 125%;\"><span></span><span style=\"color: #008000; font-weight: bold\">def</span> <span style=\"color: #0000FF\">buildLaggedData</span>(<span style=\"color: #008000\">self</span>,akm,akmdf,features,target, maxlag):\n",
       "        <span style=\"color: #BA2121; font-style: italic\">&#39;&#39;&#39;</span>\n",
       "<span style=\"color: #BA2121; font-style: italic\">        Args:</span>\n",
       "<span style=\"color: #BA2121; font-style: italic\">            akm -&gt; akm string </span>\n",
       "<span style=\"color: #BA2121; font-style: italic\">            akmdf -&gt; akm dataframe</span>\n",
       "<span style=\"color: #BA2121; font-style: italic\">            features -&gt; independent feature list</span>\n",
       "<span style=\"color: #BA2121; font-style: italic\">            target -&gt; target feature name</span>\n",
       "<span style=\"color: #BA2121; font-style: italic\">            maxlag -&gt; maxlag value</span>\n",
       "<span style=\"color: #BA2121; font-style: italic\">        Returns:</span>\n",
       "<span style=\"color: #BA2121; font-style: italic\">            -&gt; It returns dictionary of LagToData and LagToFeatures </span>\n",
       "<span style=\"color: #BA2121; font-style: italic\">            LagToData -&gt;  It will have Lag as key and corresponding dataframe as value</span>\n",
       "<span style=\"color: #BA2121; font-style: italic\">            LagToFeatures -&gt;It will have Lag as key and corresponding feature list as value</span>\n",
       "<span style=\"color: #BA2121; font-style: italic\">        &#39;&#39;&#39;</span>\n",
       "        LagToData <span style=\"color: #666666\">=</span> OrderedDict()\n",
       "        LagToFeatures <span style=\"color: #666666\">=</span> OrderedDict()\n",
       "        \n",
       "        <span style=\"color: #008000; font-weight: bold\">for</span> lag <span style=\"color: #AA22FF; font-weight: bold\">in</span> <span style=\"color: #008000\">range</span>(<span style=\"color: #666666\">1</span>,maxlag<span style=\"color: #666666\">+1</span>,<span style=\"color: #666666\">1</span>):\n",
       "            <span style=\"color: #008000; font-weight: bold\">if</span> (lag <span style=\"color: #666666\">==</span> <span style=\"color: #666666\">1</span>):\n",
       "                <span style=\"color: #3D7B7B; font-style: italic\">#for first lag, create new dataframe and add target column data</span>\n",
       "                df <span style=\"color: #666666\">=</span> pd<span style=\"color: #666666\">.</span>DataFrame()\n",
       "                df[target] <span style=\"color: #666666\">=</span> akmdf[target]\n",
       "                newfeatures <span style=\"color: #666666\">=</span> []\n",
       "            <span style=\"color: #008000; font-weight: bold\">else</span>:\n",
       "                <span style=\"color: #3D7B7B; font-style: italic\">#for other lags lag, start with the previous lag&#39;s data</span>\n",
       "                df <span style=\"color: #666666\">=</span> LagToData[lag<span style=\"color: #666666\">-1</span>]<span style=\"color: #666666\">.</span>copy(deep<span style=\"color: #666666\">=</span><span style=\"color: #008000; font-weight: bold\">True</span>)\n",
       "                newfeatures <span style=\"color: #666666\">=</span> [x <span style=\"color: #008000; font-weight: bold\">for</span> x <span style=\"color: #AA22FF; font-weight: bold\">in</span> LagToFeatures[lag<span style=\"color: #666666\">-1</span>]]\n",
       "            \n",
       "            <span style=\"color: #3D7B7B; font-style: italic\">#Create lagged features for the given features</span>\n",
       "            <span style=\"color: #008000; font-weight: bold\">for</span> col <span style=\"color: #AA22FF; font-weight: bold\">in</span> features:\n",
       "                newcol <span style=\"color: #666666\">=</span> col<span style=\"color: #666666\">+</span><span style=\"color: #BA2121\">&#39;_lag&#39;</span><span style=\"color: #666666\">+</span><span style=\"color: #008000\">str</span>(lag)\n",
       "                df[newcol] <span style=\"color: #666666\">=</span> akmdf[col]<span style=\"color: #666666\">.</span>shift(lag)\n",
       "                newfeatures<span style=\"color: #666666\">.</span>append(newcol)\n",
       "            \n",
       "            <span style=\"color: #3D7B7B; font-style: italic\">#create lagged features for the target</span>\n",
       "            newcol <span style=\"color: #666666\">=</span> target<span style=\"color: #666666\">+</span><span style=\"color: #BA2121\">&#39;_lag&#39;</span><span style=\"color: #666666\">+</span><span style=\"color: #008000\">str</span>(lag)\n",
       "            df[newcol] <span style=\"color: #666666\">=</span> akmdf[target]<span style=\"color: #666666\">.</span>shift(lag)\n",
       "            newfeatures<span style=\"color: #666666\">.</span>append(newcol)\n",
       "            \n",
       "            <span style=\"color: #3D7B7B; font-style: italic\">#delete first row because it has missing features from lagging.</span>\n",
       "            <span style=\"color: #3D7B7B; font-style: italic\">#This is cumulative for the new DFs for new lags</span>\n",
       "            df <span style=\"color: #666666\">=</span> df<span style=\"color: #666666\">.</span>iloc[<span style=\"color: #666666\">1</span>:,:]\n",
       "            \n",
       "            <span style=\"color: #3D7B7B; font-style: italic\">#Add data and feature names to the dictionary</span>\n",
       "            LagToData[lag] <span style=\"color: #666666\">=</span> df\n",
       "            LagToFeatures[lag] <span style=\"color: #666666\">=</span> newfeatures\n",
       "            \n",
       "        <span style=\"color: #008000; font-weight: bold\">return</span> LagToData, LagToFeatures\n",
       "\n",
       "    \n",
       "</pre></div>\n"
      ],
      "text/plain": [
       "<DefNode path=[86, 'value', 8], \"def buildLaggedD... \" 140201695293552, on ClassNode 140203309922864>"
      ]
     },
     "execution_count": 3,
     "metadata": {},
     "output_type": "execute_result"
    }
   ],
   "source": [
    "allfuncs = red.find_all(\"DefNode\")\n",
    "rand_func_idx = np.random.choice(len(allfuncs))\n",
    "allfuncs[rand_func_idx]"
   ]
  },
  {
   "cell_type": "code",
   "execution_count": null,
   "metadata": {},
   "outputs": [],
   "source": [
    "# Iterate over all functions\n",
    "for func in allfuncs:\n",
    "    # Iterate over all arguments in this function (in reverse order, for ease of printing)\n",
    "    args = func.arguments\n",
    "    func.value.insert(0, \"print(\\'\\\\n\\')\")\n",
    "    for i in range(len(args) - 1, -1, -1):\n",
    "        # no need to print out self\n",
    "        if (args[i].target.value != 'self'):\n",
    "            # Construct print statement for the argument (could be logging instead)\n",
    "            pstr = \"print('\" + args[i].target.value + \":', \" + args[i].target.value + \", end=\\' | \\')\"\n",
    "            # Insert that statement at the beginning ...\n",
    "        func.value.insert(0, pstr) \n",
    "    func.value.insert(0, \"print('Arguments for function \\\\\\'\" + func.name + \"\\\\\\':')\")"
   ]
  },
  {
   "cell_type": "markdown",
   "metadata": {},
   "source": [
    "Print out the structure of the function."
   ]
  },
  {
   "cell_type": "code",
   "execution_count": null,
   "metadata": {},
   "outputs": [
    {
     "data": {
      "text/html": [
       "<div class=\"highlight\" style=\"background: #f8f8f8\"><pre style=\"line-height: 125%;\"><span></span><span style=\"color: #008000; font-weight: bold\">def</span> <span style=\"color: #0000FF\">buildLaggedData</span>(<span style=\"color: #008000\">self</span>,akm,akmdf,features,target, maxlag):\n",
       "        <span style=\"color: #008000\">print</span>(<span style=\"color: #BA2121\">&#39;Arguments for function </span><span style=\"color: #AA5D1F; font-weight: bold\">\\&#39;</span><span style=\"color: #BA2121\">buildLaggedData</span><span style=\"color: #AA5D1F; font-weight: bold\">\\&#39;</span><span style=\"color: #BA2121\">:&#39;</span>)\n",
       "        <span style=\"color: #008000\">print</span>(<span style=\"color: #BA2121\">&#39;akm:&#39;</span>, akm, end<span style=\"color: #666666\">=</span><span style=\"color: #BA2121\">&#39; | &#39;</span>)\n",
       "        <span style=\"color: #008000\">print</span>(<span style=\"color: #BA2121\">&#39;akm:&#39;</span>, akm, end<span style=\"color: #666666\">=</span><span style=\"color: #BA2121\">&#39; | &#39;</span>)\n",
       "        <span style=\"color: #008000\">print</span>(<span style=\"color: #BA2121\">&#39;akmdf:&#39;</span>, akmdf, end<span style=\"color: #666666\">=</span><span style=\"color: #BA2121\">&#39; | &#39;</span>)\n",
       "        <span style=\"color: #008000\">print</span>(<span style=\"color: #BA2121\">&#39;features:&#39;</span>, features, end<span style=\"color: #666666\">=</span><span style=\"color: #BA2121\">&#39; | &#39;</span>)\n",
       "        <span style=\"color: #008000\">print</span>(<span style=\"color: #BA2121\">&#39;target:&#39;</span>, target, end<span style=\"color: #666666\">=</span><span style=\"color: #BA2121\">&#39; | &#39;</span>)\n",
       "        <span style=\"color: #008000\">print</span>(<span style=\"color: #BA2121\">&#39;maxlag:&#39;</span>, maxlag, end<span style=\"color: #666666\">=</span><span style=\"color: #BA2121\">&#39; | &#39;</span>)\n",
       "        <span style=\"color: #008000\">print</span>(<span style=\"color: #BA2121\">&#39;</span><span style=\"color: #AA5D1F; font-weight: bold\">\\n</span><span style=\"color: #BA2121\">&#39;</span>)\n",
       "        <span style=\"color: #BA2121; font-style: italic\">&#39;&#39;&#39;</span>\n",
       "<span style=\"color: #BA2121; font-style: italic\">        Args:</span>\n",
       "<span style=\"color: #BA2121; font-style: italic\">            akm -&gt; akm string </span>\n",
       "<span style=\"color: #BA2121; font-style: italic\">            akmdf -&gt; akm dataframe</span>\n",
       "<span style=\"color: #BA2121; font-style: italic\">            features -&gt; independent feature list</span>\n",
       "<span style=\"color: #BA2121; font-style: italic\">            target -&gt; target feature name</span>\n",
       "<span style=\"color: #BA2121; font-style: italic\">            maxlag -&gt; maxlag value</span>\n",
       "<span style=\"color: #BA2121; font-style: italic\">        Returns:</span>\n",
       "<span style=\"color: #BA2121; font-style: italic\">            -&gt; It returns dictionary of LagToData and LagToFeatures </span>\n",
       "<span style=\"color: #BA2121; font-style: italic\">            LagToData -&gt;  It will have Lag as key and corresponding dataframe as value</span>\n",
       "<span style=\"color: #BA2121; font-style: italic\">            LagToFeatures -&gt;It will have Lag as key and corresponding feature list as value</span>\n",
       "<span style=\"color: #BA2121; font-style: italic\">        &#39;&#39;&#39;</span>\n",
       "        LagToData <span style=\"color: #666666\">=</span> OrderedDict()\n",
       "        LagToFeatures <span style=\"color: #666666\">=</span> OrderedDict()\n",
       "\n",
       "        <span style=\"color: #008000; font-weight: bold\">for</span> lag <span style=\"color: #AA22FF; font-weight: bold\">in</span> <span style=\"color: #008000\">range</span>(<span style=\"color: #666666\">1</span>,maxlag<span style=\"color: #666666\">+1</span>,<span style=\"color: #666666\">1</span>):\n",
       "            <span style=\"color: #008000; font-weight: bold\">if</span> (lag <span style=\"color: #666666\">==</span> <span style=\"color: #666666\">1</span>):\n",
       "                <span style=\"color: #3D7B7B; font-style: italic\">#for first lag, create new dataframe and add target column data</span>\n",
       "                df <span style=\"color: #666666\">=</span> pd<span style=\"color: #666666\">.</span>DataFrame()\n",
       "                df[target] <span style=\"color: #666666\">=</span> akmdf[target]\n",
       "                newfeatures <span style=\"color: #666666\">=</span> []\n",
       "            <span style=\"color: #008000; font-weight: bold\">else</span>:\n",
       "                <span style=\"color: #3D7B7B; font-style: italic\">#for other lags lag, start with the previous lag&#39;s data</span>\n",
       "                df <span style=\"color: #666666\">=</span> LagToData[lag<span style=\"color: #666666\">-1</span>]<span style=\"color: #666666\">.</span>copy(deep<span style=\"color: #666666\">=</span><span style=\"color: #008000; font-weight: bold\">True</span>)\n",
       "                newfeatures <span style=\"color: #666666\">=</span> [x <span style=\"color: #008000; font-weight: bold\">for</span> x <span style=\"color: #AA22FF; font-weight: bold\">in</span> LagToFeatures[lag<span style=\"color: #666666\">-1</span>]]\n",
       "            \n",
       "            <span style=\"color: #3D7B7B; font-style: italic\">#Create lagged features for the given features</span>\n",
       "            <span style=\"color: #008000; font-weight: bold\">for</span> col <span style=\"color: #AA22FF; font-weight: bold\">in</span> features:\n",
       "                newcol <span style=\"color: #666666\">=</span> col<span style=\"color: #666666\">+</span><span style=\"color: #BA2121\">&#39;_lag&#39;</span><span style=\"color: #666666\">+</span><span style=\"color: #008000\">str</span>(lag)\n",
       "                df[newcol] <span style=\"color: #666666\">=</span> akmdf[col]<span style=\"color: #666666\">.</span>shift(lag)\n",
       "                newfeatures<span style=\"color: #666666\">.</span>append(newcol)\n",
       "            \n",
       "            <span style=\"color: #3D7B7B; font-style: italic\">#create lagged features for the target</span>\n",
       "            newcol <span style=\"color: #666666\">=</span> target<span style=\"color: #666666\">+</span><span style=\"color: #BA2121\">&#39;_lag&#39;</span><span style=\"color: #666666\">+</span><span style=\"color: #008000\">str</span>(lag)\n",
       "            df[newcol] <span style=\"color: #666666\">=</span> akmdf[target]<span style=\"color: #666666\">.</span>shift(lag)\n",
       "            newfeatures<span style=\"color: #666666\">.</span>append(newcol)\n",
       "            \n",
       "            <span style=\"color: #3D7B7B; font-style: italic\">#delete first row because it has missing features from lagging.</span>\n",
       "            <span style=\"color: #3D7B7B; font-style: italic\">#This is cumulative for the new DFs for new lags</span>\n",
       "            df <span style=\"color: #666666\">=</span> df<span style=\"color: #666666\">.</span>iloc[<span style=\"color: #666666\">1</span>:,:]\n",
       "            \n",
       "            <span style=\"color: #3D7B7B; font-style: italic\">#Add data and feature names to the dictionary</span>\n",
       "            LagToData[lag] <span style=\"color: #666666\">=</span> df\n",
       "            LagToFeatures[lag] <span style=\"color: #666666\">=</span> newfeatures\n",
       "            \n",
       "        <span style=\"color: #008000; font-weight: bold\">return</span> LagToData, LagToFeatures\n",
       "\n",
       "    \n",
       "</pre></div>\n"
      ],
      "text/plain": [
       "<DefNode path=[86, 'value', 8], \"def buildLaggedD... \" 140201695293552, on ClassNode 140203309922864>"
      ]
     },
     "execution_count": 5,
     "metadata": {},
     "output_type": "execute_result"
    }
   ],
   "source": [
    "allfuncs[rand_func_idx]"
   ]
  },
  {
   "cell_type": "markdown",
   "metadata": {},
   "source": [
    "## Write modified code to file.\n",
    "\n",
    "Can either write entire modified code, or just the block of code you modified."
   ]
  },
  {
   "cell_type": "code",
   "execution_count": null,
   "metadata": {},
   "outputs": [],
   "source": [
    "# Save modified code to ipynb file\n",
    "my_utils.dump_redbaron(red, \"dump.py\")"
   ]
  },
  {
   "cell_type": "code",
   "execution_count": null,
   "metadata": {},
   "outputs": [],
   "source": []
  }
 ],
 "metadata": {
  "kernelspec": {
   "display_name": "Python 3.10.8 ('konferenv')",
   "language": "python",
   "name": "python3"
  },
  "language_info": {
   "codemirror_mode": {
    "name": "ipython",
    "version": 3
   },
   "file_extension": ".py",
   "mimetype": "text/x-python",
   "name": "python",
   "nbconvert_exporter": "python",
   "pygments_lexer": "ipython3",
   "version": "3.10.8"
  },
  "orig_nbformat": 4,
  "vscode": {
   "interpreter": {
    "hash": "7460d441b5a2df99d051490e5490331ce03b335220e9c7f658719b37819ef91b"
   }
  }
 },
 "nbformat": 4,
 "nbformat_minor": 2
}
