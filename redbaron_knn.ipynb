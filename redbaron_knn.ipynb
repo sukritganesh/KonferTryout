{
 "cells": [
  {
   "cell_type": "code",
   "execution_count": 29,
   "metadata": {},
   "outputs": [],
   "source": [
    "from redbaron import RedBaron, NameNode\n",
    "import gorilla\n",
    "import json\n",
    "import my_utils"
   ]
  },
  {
   "cell_type": "code",
   "execution_count": 33,
   "metadata": {},
   "outputs": [],
   "source": [
    "with open(\"knn.py\", \"r\") as source_code:\n",
    "    red = RedBaron(source_code.read())"
   ]
  },
  {
   "cell_type": "code",
   "execution_count": 40,
   "metadata": {},
   "outputs": [
    {
     "data": {
      "text/html": [
       "<div class=\"highlight\" style=\"background: #f8f8f8\"><pre style=\"line-height: 125%;\"><span></span><span style=\"color: #008000; font-weight: bold\">def</span> <span style=\"color: #0000FF\">isEnoughData</span>(<span style=\"color: #008000\">self</span>,df,columns):\n",
       "        <span style=\"color: #BA2121; font-style: italic\">&#39;&#39;&#39;</span>\n",
       "<span style=\"color: #BA2121; font-style: italic\">        Args:</span>\n",
       "<span style=\"color: #BA2121; font-style: italic\">            df -&gt; input dataframe</span>\n",
       "<span style=\"color: #BA2121; font-style: italic\">            columns -&gt; target feature name(list)</span>\n",
       "<span style=\"color: #BA2121; font-style: italic\">        Returns:</span>\n",
       "<span style=\"color: #BA2121; font-style: italic\">            It return True/False based on distinct value count of the target feature</span>\n",
       "<span style=\"color: #BA2121; font-style: italic\">        &#39;&#39;&#39;</span>\n",
       "        <span style=\"color: #008000; font-weight: bold\">for</span> col <span style=\"color: #AA22FF; font-weight: bold\">in</span> columns:\n",
       "            distcnt <span style=\"color: #666666\">=</span> np<span style=\"color: #666666\">.</span>count_nonzero(df[col], axis<span style=\"color: #666666\">=0</span>)\n",
       "            <span style=\"color: #008000; font-weight: bold\">if</span> (distcnt <span style=\"color: #666666\">&lt;</span> <span style=\"color: #666666\">10</span>):\n",
       "                <span style=\"color: #008000; font-weight: bold\">return</span> <span style=\"color: #008000; font-weight: bold\">False</span>\n",
       "            <span style=\"color: #3D7B7B; font-style: italic\"># sd = df[col].std()</span>\n",
       "        <span style=\"color: #008000; font-weight: bold\">return</span> <span style=\"color: #008000; font-weight: bold\">True</span>\n",
       "\n",
       "    \n",
       "</pre></div>\n"
      ],
      "text/plain": [
       "<DefNode path=[86, 'value', 6], \"def isEnoughData... \" 140409471720016, on ClassNode 140409472086272>"
      ]
     },
     "execution_count": 40,
     "metadata": {},
     "output_type": "execute_result"
    }
   ],
   "source": [
    "var = red.find(\"int\")\n",
    "theblock = var.parent.parent.parent.parent.parent.parent\n",
    "theblock"
   ]
  },
  {
   "cell_type": "code",
   "execution_count": 41,
   "metadata": {},
   "outputs": [
    {
     "name": "stdout",
     "output_type": "stream",
     "text": [
      "\u001b[38;5;148mDefNode\u001b[39m\u001b[38;5;197m(\u001b[39m\u001b[38;5;197m)\u001b[39m\n",
      "\u001b[38;5;15m  \u001b[39m\u001b[38;5;242m# identifiers: def, def_, defnode, funcdef, funcdef_\u001b[39m\n",
      "\u001b[38;5;15m  \u001b[39m\u001b[38;5;242m# default test value: name\u001b[39m\n",
      "\u001b[38;5;15m  \u001b[39m\u001b[38;5;15masync\u001b[39m\u001b[38;5;197m=\u001b[39m\u001b[38;5;186mFalse\u001b[39m\n",
      "\u001b[38;5;15m  \u001b[39m\u001b[38;5;15mname\u001b[39m\u001b[38;5;197m=\u001b[39m\u001b[38;5;186m'isEnoughData'\u001b[39m\n",
      "\u001b[38;5;15m  \u001b[39m\u001b[38;5;15mreturn_annotation\u001b[39m\u001b[38;5;15m \u001b[39m\u001b[38;5;197m->\u001b[39m\n",
      "\u001b[38;5;15m    \u001b[39m\u001b[38;5;186mNone\u001b[39m\n",
      "\u001b[38;5;15m  \u001b[39m\u001b[38;5;15mdecorators\u001b[39m\u001b[38;5;15m \u001b[39m\u001b[38;5;197m->\u001b[39m\n",
      "\u001b[38;5;15m  \u001b[39m\u001b[38;5;15marguments\u001b[39m\u001b[38;5;15m \u001b[39m\u001b[38;5;197m->\u001b[39m\n",
      "\u001b[38;5;15m    \u001b[39m\u001b[38;5;197m*\u001b[39m\u001b[38;5;81m DefArgumentNode\u001b[39m\u001b[38;5;197m(\u001b[39m\u001b[38;5;197m)\u001b[39m\n",
      "\u001b[38;5;15m        \u001b[39m\u001b[38;5;242m# identifiers: def_argument, def_argument_, defargument, defargumentnode\u001b[39m\n",
      "\u001b[38;5;15m        \u001b[39m\u001b[38;5;15mtarget\u001b[39m\u001b[38;5;15m \u001b[39m\u001b[38;5;197m->\u001b[39m\n",
      "\u001b[38;5;15m          \u001b[39m\u001b[38;5;148mNameNode\u001b[39m\u001b[38;5;197m(\u001b[39m\u001b[38;5;197m)\u001b[39m\n",
      "\u001b[38;5;15m            \u001b[39m\u001b[38;5;242m# identifiers: name, name_, namenode\u001b[39m\n",
      "\u001b[38;5;15m            \u001b[39m\u001b[38;5;15mvalue\u001b[39m\u001b[38;5;197m=\u001b[39m\u001b[38;5;186m'self'\u001b[39m\n",
      "\u001b[38;5;15m        \u001b[39m\u001b[38;5;15mannotation\u001b[39m\u001b[38;5;15m \u001b[39m\u001b[38;5;197m->\u001b[39m\n",
      "\u001b[38;5;15m          \u001b[39m\u001b[38;5;186mNone\u001b[39m\n",
      "\u001b[38;5;15m        \u001b[39m\u001b[38;5;15mvalue\u001b[39m\u001b[38;5;15m \u001b[39m\u001b[38;5;197m->\u001b[39m\n",
      "\u001b[38;5;15m          \u001b[39m\u001b[38;5;186mNone\u001b[39m\n",
      "\u001b[38;5;15m    \u001b[39m\u001b[38;5;197m*\u001b[39m\u001b[38;5;81m DefArgumentNode\u001b[39m\u001b[38;5;197m(\u001b[39m\u001b[38;5;197m)\u001b[39m\n",
      "\u001b[38;5;15m        \u001b[39m\u001b[38;5;242m# identifiers: def_argument, def_argument_, defargument, defargumentnode\u001b[39m\n",
      "\u001b[38;5;15m        \u001b[39m\u001b[38;5;15mtarget\u001b[39m\u001b[38;5;15m \u001b[39m\u001b[38;5;197m->\u001b[39m\n",
      "\u001b[38;5;15m          \u001b[39m\u001b[38;5;148mNameNode\u001b[39m\u001b[38;5;197m(\u001b[39m\u001b[38;5;197m)\u001b[39m\n",
      "\u001b[38;5;15m            \u001b[39m\u001b[38;5;242m# identifiers: name, name_, namenode\u001b[39m\n",
      "\u001b[38;5;15m            \u001b[39m\u001b[38;5;15mvalue\u001b[39m\u001b[38;5;197m=\u001b[39m\u001b[38;5;186m'df'\u001b[39m\n",
      "\u001b[38;5;15m        \u001b[39m\u001b[38;5;15mannotation\u001b[39m\u001b[38;5;15m \u001b[39m\u001b[38;5;197m->\u001b[39m\n",
      "\u001b[38;5;15m          \u001b[39m\u001b[38;5;186mNone\u001b[39m\n",
      "\u001b[38;5;15m        \u001b[39m\u001b[38;5;15mvalue\u001b[39m\u001b[38;5;15m \u001b[39m\u001b[38;5;197m->\u001b[39m\n",
      "\u001b[38;5;15m          \u001b[39m\u001b[38;5;186mNone\u001b[39m\n",
      "\u001b[38;5;15m    \u001b[39m\u001b[38;5;197m*\u001b[39m\u001b[38;5;81m DefArgumentNode\u001b[39m\u001b[38;5;197m(\u001b[39m\u001b[38;5;197m)\u001b[39m\n",
      "\u001b[38;5;15m        \u001b[39m\u001b[38;5;242m# identifiers: def_argument, def_argument_, defargument, defargumentnode\u001b[39m\n",
      "\u001b[38;5;15m        \u001b[39m\u001b[38;5;15mtarget\u001b[39m\u001b[38;5;15m \u001b[39m\u001b[38;5;197m->\u001b[39m\n",
      "\u001b[38;5;15m          \u001b[39m\u001b[38;5;148mNameNode\u001b[39m\u001b[38;5;197m(\u001b[39m\u001b[38;5;197m)\u001b[39m\n",
      "\u001b[38;5;15m            \u001b[39m\u001b[38;5;242m# identifiers: name, name_, namenode\u001b[39m\n",
      "\u001b[38;5;15m            \u001b[39m\u001b[38;5;15mvalue\u001b[39m\u001b[38;5;197m=\u001b[39m\u001b[38;5;186m'columns'\u001b[39m\n",
      "\u001b[38;5;15m        \u001b[39m\u001b[38;5;15mannotation\u001b[39m\u001b[38;5;15m \u001b[39m\u001b[38;5;197m->\u001b[39m\n",
      "\u001b[38;5;15m          \u001b[39m\u001b[38;5;186mNone\u001b[39m\n",
      "\u001b[38;5;15m        \u001b[39m\u001b[38;5;15mvalue\u001b[39m\u001b[38;5;15m \u001b[39m\u001b[38;5;197m->\u001b[39m\n",
      "\u001b[38;5;15m          \u001b[39m\u001b[38;5;186mNone\u001b[39m\n",
      "\u001b[38;5;15m  \u001b[39m\u001b[38;5;15mvalue\u001b[39m\u001b[38;5;15m \u001b[39m\u001b[38;5;197m->\u001b[39m\n",
      "\u001b[38;5;15m    \u001b[39m\u001b[38;5;197m*\u001b[39m\u001b[38;5;81m StringNode\u001b[39m\u001b[38;5;197m(\u001b[39m\u001b[38;5;197m)\u001b[39m\n",
      "\u001b[38;5;15m        \u001b[39m\u001b[38;5;242m# identifiers: string, string_, stringnode\u001b[39m\n",
      "\u001b[38;5;15m        \u001b[39m\u001b[38;5;15mvalue\u001b[39m\u001b[38;5;197m=\u001b[39m\u001b[38;5;186m\"'''\\n        Args:\\n            df -> input dataframe\\n            columns -> target feature name(list)\\n        Returns:\\n            It return True/False based on distinct value count of the target feature\\n        '''\"\u001b[39m\n",
      "\u001b[38;5;15m    \u001b[39m\u001b[38;5;197m*\u001b[39m\u001b[38;5;81m ForNode\u001b[39m\u001b[38;5;197m(\u001b[39m\u001b[38;5;197m)\u001b[39m\n",
      "\u001b[38;5;15m        \u001b[39m\u001b[38;5;242m# identifiers: for, for_, fornode\u001b[39m\n",
      "\u001b[38;5;15m        \u001b[39m\u001b[38;5;15masync\u001b[39m\u001b[38;5;197m=\u001b[39m\u001b[38;5;186mFalse\u001b[39m\n",
      "\u001b[38;5;15m        \u001b[39m\u001b[38;5;15miterator\u001b[39m\u001b[38;5;15m \u001b[39m\u001b[38;5;197m->\u001b[39m\n",
      "\u001b[38;5;15m          \u001b[39m\u001b[38;5;148mNameNode\u001b[39m\u001b[38;5;197m(\u001b[39m\u001b[38;5;197m)\u001b[39m\n",
      "\u001b[38;5;15m            \u001b[39m\u001b[38;5;242m# identifiers: name, name_, namenode\u001b[39m\n",
      "\u001b[38;5;15m            \u001b[39m\u001b[38;5;15mvalue\u001b[39m\u001b[38;5;197m=\u001b[39m\u001b[38;5;186m'col'\u001b[39m\n",
      "\u001b[38;5;15m        \u001b[39m\u001b[38;5;15mtarget\u001b[39m\u001b[38;5;15m \u001b[39m\u001b[38;5;197m->\u001b[39m\n",
      "\u001b[38;5;15m          \u001b[39m\u001b[38;5;148mNameNode\u001b[39m\u001b[38;5;197m(\u001b[39m\u001b[38;5;197m)\u001b[39m\n",
      "\u001b[38;5;15m            \u001b[39m\u001b[38;5;242m# identifiers: name, name_, namenode\u001b[39m\n",
      "\u001b[38;5;15m            \u001b[39m\u001b[38;5;15mvalue\u001b[39m\u001b[38;5;197m=\u001b[39m\u001b[38;5;186m'columns'\u001b[39m\n",
      "\u001b[38;5;15m        \u001b[39m\u001b[38;5;15melse\u001b[39m\u001b[38;5;15m \u001b[39m\u001b[38;5;197m->\u001b[39m\n",
      "\u001b[38;5;15m          \u001b[39m\u001b[38;5;186mNone\u001b[39m\n",
      "\u001b[38;5;15m        \u001b[39m\u001b[38;5;15mvalue\u001b[39m\u001b[38;5;15m \u001b[39m\u001b[38;5;197m->\u001b[39m\n",
      "\u001b[38;5;15m          \u001b[39m\u001b[38;5;197m*\u001b[39m\u001b[38;5;81m AssignmentNode\u001b[39m\u001b[38;5;197m(\u001b[39m\u001b[38;5;197m)\u001b[39m\n",
      "\u001b[38;5;15m              \u001b[39m\u001b[38;5;242m# identifiers: assign, assignment, assignment_, assignmentnode\u001b[39m\n",
      "\u001b[38;5;15m              \u001b[39m\u001b[38;5;15moperator\u001b[39m\u001b[38;5;197m=\u001b[39m\u001b[38;5;186m''\u001b[39m\n",
      "\u001b[38;5;15m              \u001b[39m\u001b[38;5;15mtarget\u001b[39m\u001b[38;5;15m \u001b[39m\u001b[38;5;197m->\u001b[39m\n",
      "\u001b[38;5;15m                \u001b[39m\u001b[38;5;148mNameNode\u001b[39m\u001b[38;5;197m(\u001b[39m\u001b[38;5;197m)\u001b[39m\n",
      "\u001b[38;5;15m                  \u001b[39m\u001b[38;5;242m# identifiers: name, name_, namenode\u001b[39m\n",
      "\u001b[38;5;15m                  \u001b[39m\u001b[38;5;15mvalue\u001b[39m\u001b[38;5;197m=\u001b[39m\u001b[38;5;186m'distcnt'\u001b[39m\n",
      "\u001b[38;5;15m              \u001b[39m\u001b[38;5;15mannotation\u001b[39m\u001b[38;5;15m \u001b[39m\u001b[38;5;197m->\u001b[39m\n",
      "\u001b[38;5;15m                \u001b[39m\u001b[38;5;186mNone\u001b[39m\n",
      "\u001b[38;5;15m              \u001b[39m\u001b[38;5;15mvalue\u001b[39m\u001b[38;5;15m \u001b[39m\u001b[38;5;197m->\u001b[39m\n",
      "\u001b[38;5;15m                \u001b[39m\u001b[38;5;148mAtomtrailersNode\u001b[39m\u001b[38;5;197m(\u001b[39m\u001b[38;5;197m)\u001b[39m\n",
      "\u001b[38;5;15m                  \u001b[39m\u001b[38;5;242m# identifiers: atomtrailers, atomtrailers_, atomtrailersnode\u001b[39m\n",
      "\u001b[38;5;15m                  \u001b[39m\u001b[38;5;15mvalue\u001b[39m\u001b[38;5;15m \u001b[39m\u001b[38;5;197m->\u001b[39m\n",
      "\u001b[38;5;15m                    \u001b[39m\u001b[38;5;197m*\u001b[39m\u001b[38;5;81m NameNode\u001b[39m\u001b[38;5;197m(\u001b[39m\u001b[38;5;197m)\u001b[39m\n",
      "\u001b[38;5;15m                        \u001b[39m\u001b[38;5;242m# identifiers: name, name_, namenode\u001b[39m\n",
      "\u001b[38;5;15m                        \u001b[39m\u001b[38;5;15mvalue\u001b[39m\u001b[38;5;197m=\u001b[39m\u001b[38;5;186m'np'\u001b[39m\n",
      "\u001b[38;5;15m                    \u001b[39m\u001b[38;5;197m*\u001b[39m\u001b[38;5;81m NameNode\u001b[39m\u001b[38;5;197m(\u001b[39m\u001b[38;5;197m)\u001b[39m\n",
      "\u001b[38;5;15m                        \u001b[39m\u001b[38;5;242m# identifiers: name, name_, namenode\u001b[39m\n",
      "\u001b[38;5;15m                        \u001b[39m\u001b[38;5;15mvalue\u001b[39m\u001b[38;5;197m=\u001b[39m\u001b[38;5;186m'count_nonzero'\u001b[39m\n",
      "\u001b[38;5;15m                    \u001b[39m\u001b[38;5;197m*\u001b[39m\u001b[38;5;81m CallNode\u001b[39m\u001b[38;5;197m(\u001b[39m\u001b[38;5;197m)\u001b[39m\n",
      "\u001b[38;5;15m                        \u001b[39m\u001b[38;5;242m# identifiers: call, call_, callnode\u001b[39m\n",
      "\u001b[38;5;15m                        \u001b[39m\u001b[38;5;15mvalue\u001b[39m\u001b[38;5;15m \u001b[39m\u001b[38;5;197m->\u001b[39m\n",
      "\u001b[38;5;15m                          \u001b[39m\u001b[38;5;197m*\u001b[39m\u001b[38;5;81m CallArgumentNode\u001b[39m\u001b[38;5;197m(\u001b[39m\u001b[38;5;197m)\u001b[39m\n",
      "\u001b[38;5;15m                              \u001b[39m\u001b[38;5;242m# identifiers: call_argument, call_argument_, callargument, callargumentnode\u001b[39m\n",
      "\u001b[38;5;15m                              \u001b[39m\u001b[38;5;15mtarget\u001b[39m\u001b[38;5;15m \u001b[39m\u001b[38;5;197m->\u001b[39m\n",
      "\u001b[38;5;15m                                \u001b[39m\u001b[38;5;186mNone\u001b[39m\n",
      "\u001b[38;5;15m                              \u001b[39m\u001b[38;5;15mvalue\u001b[39m\u001b[38;5;15m \u001b[39m\u001b[38;5;197m->\u001b[39m\n",
      "\u001b[38;5;15m                                \u001b[39m\u001b[38;5;148mAtomtrailersNode\u001b[39m\u001b[38;5;197m(\u001b[39m\u001b[38;5;197m)\u001b[39m\n",
      "\u001b[38;5;15m                                  \u001b[39m\u001b[38;5;242m# identifiers: atomtrailers, atomtrailers_, atomtrailersnode\u001b[39m\n",
      "\u001b[38;5;15m                                  \u001b[39m\u001b[38;5;15mvalue\u001b[39m\u001b[38;5;15m \u001b[39m\u001b[38;5;197m->\u001b[39m\n",
      "\u001b[38;5;15m                                    \u001b[39m\u001b[38;5;197m*\u001b[39m\u001b[38;5;81m NameNode\u001b[39m\u001b[38;5;197m(\u001b[39m\u001b[38;5;197m)\u001b[39m\n",
      "\u001b[38;5;15m                                        \u001b[39m\u001b[38;5;242m# identifiers: name, name_, namenode\u001b[39m\n",
      "\u001b[38;5;15m                                        \u001b[39m\u001b[38;5;15mvalue\u001b[39m\u001b[38;5;197m=\u001b[39m\u001b[38;5;186m'df'\u001b[39m\n",
      "\u001b[38;5;15m                                    \u001b[39m\u001b[38;5;197m*\u001b[39m\u001b[38;5;81m GetitemNode\u001b[39m\u001b[38;5;197m(\u001b[39m\u001b[38;5;197m)\u001b[39m\n",
      "\u001b[38;5;15m                                        \u001b[39m\u001b[38;5;242m# identifiers: getitem, getitem_, getitemnode\u001b[39m\n",
      "\u001b[38;5;15m                                        \u001b[39m\u001b[38;5;15mvalue\u001b[39m\u001b[38;5;15m \u001b[39m\u001b[38;5;197m->\u001b[39m\n",
      "\u001b[38;5;15m                                          \u001b[39m\u001b[38;5;148mNameNode\u001b[39m\u001b[38;5;197m(\u001b[39m\u001b[38;5;197m)\u001b[39m\n",
      "\u001b[38;5;15m                                            \u001b[39m\u001b[38;5;242m# identifiers: name, name_, namenode\u001b[39m\n",
      "\u001b[38;5;15m                                            \u001b[39m\u001b[38;5;15mvalue\u001b[39m\u001b[38;5;197m=\u001b[39m\u001b[38;5;186m'col'\u001b[39m\n",
      "\u001b[38;5;15m                          \u001b[39m\u001b[38;5;197m*\u001b[39m\u001b[38;5;81m CallArgumentNode\u001b[39m\u001b[38;5;197m(\u001b[39m\u001b[38;5;197m)\u001b[39m\n",
      "\u001b[38;5;15m                              \u001b[39m\u001b[38;5;242m# identifiers: call_argument, call_argument_, callargument, callargumentnode\u001b[39m\n",
      "\u001b[38;5;15m                              \u001b[39m\u001b[38;5;15mtarget\u001b[39m\u001b[38;5;15m \u001b[39m\u001b[38;5;197m->\u001b[39m\n",
      "\u001b[38;5;15m                                \u001b[39m\u001b[38;5;148mNameNode\u001b[39m\u001b[38;5;197m(\u001b[39m\u001b[38;5;197m)\u001b[39m\n",
      "\u001b[38;5;15m                                  \u001b[39m\u001b[38;5;242m# identifiers: name, name_, namenode\u001b[39m\n",
      "\u001b[38;5;15m                                  \u001b[39m\u001b[38;5;15mvalue\u001b[39m\u001b[38;5;197m=\u001b[39m\u001b[38;5;186m'axis'\u001b[39m\n",
      "\u001b[38;5;15m                              \u001b[39m\u001b[38;5;15mvalue\u001b[39m\u001b[38;5;15m \u001b[39m\u001b[38;5;197m->\u001b[39m\n",
      "\u001b[38;5;15m                                \u001b[39m\u001b[38;5;148mIntNode\u001b[39m\u001b[38;5;197m(\u001b[39m\u001b[38;5;197m)\u001b[39m\n",
      "\u001b[38;5;15m                                  \u001b[39m\u001b[38;5;242m# identifiers: int, int_, intnode\u001b[39m\n",
      "\u001b[38;5;15m                                  \u001b[39m\u001b[38;5;15mvalue\u001b[39m\u001b[38;5;197m=\u001b[39m\u001b[38;5;186m'0'\u001b[39m\n",
      "\u001b[38;5;15m          \u001b[39m\u001b[38;5;197m*\u001b[39m\u001b[38;5;81m IfelseblockNode\u001b[39m\u001b[38;5;197m(\u001b[39m\u001b[38;5;197m)\u001b[39m\n",
      "\u001b[38;5;15m              \u001b[39m\u001b[38;5;242m# identifiers: ifelseblock, ifelseblock_, ifelseblocknode\u001b[39m\n",
      "\u001b[38;5;15m              \u001b[39m\u001b[38;5;15mvalue\u001b[39m\u001b[38;5;15m \u001b[39m\u001b[38;5;197m->\u001b[39m\n",
      "\u001b[38;5;15m                \u001b[39m\u001b[38;5;197m*\u001b[39m\u001b[38;5;81m IfNode\u001b[39m\u001b[38;5;197m(\u001b[39m\u001b[38;5;197m)\u001b[39m\n",
      "\u001b[38;5;15m                    \u001b[39m\u001b[38;5;242m# identifiers: if, if_, ifnode\u001b[39m\n",
      "\u001b[38;5;15m                    \u001b[39m\u001b[38;5;15mtest\u001b[39m\u001b[38;5;15m \u001b[39m\u001b[38;5;197m->\u001b[39m\n",
      "\u001b[38;5;15m                      \u001b[39m\u001b[38;5;148mAssociativeParenthesisNode\u001b[39m\u001b[38;5;197m(\u001b[39m\u001b[38;5;197m)\u001b[39m\n",
      "\u001b[38;5;15m                        \u001b[39m\u001b[38;5;242m# identifiers: associative_parenthesis, associative_parenthesis_, associativeparenthesis, associativeparenthesisnode\u001b[39m\n",
      "\u001b[38;5;15m                        \u001b[39m\u001b[38;5;15mvalue\u001b[39m\u001b[38;5;15m \u001b[39m\u001b[38;5;197m->\u001b[39m\n",
      "\u001b[38;5;15m                          \u001b[39m\u001b[38;5;148mComparisonNode\u001b[39m\u001b[38;5;197m(\u001b[39m\u001b[38;5;197m)\u001b[39m\n",
      "\u001b[38;5;15m                            \u001b[39m\u001b[38;5;242m# identifiers: comparison, comparison_, comparisonnode\u001b[39m\n",
      "\u001b[38;5;15m                            \u001b[39m\u001b[38;5;15mfirst\u001b[39m\u001b[38;5;15m \u001b[39m\u001b[38;5;197m->\u001b[39m\n",
      "\u001b[38;5;15m                              \u001b[39m\u001b[38;5;148mNameNode\u001b[39m\u001b[38;5;197m(\u001b[39m\u001b[38;5;197m)\u001b[39m\n",
      "\u001b[38;5;15m                                \u001b[39m\u001b[38;5;242m# identifiers: name, name_, namenode\u001b[39m\n",
      "\u001b[38;5;15m                                \u001b[39m\u001b[38;5;15mvalue\u001b[39m\u001b[38;5;197m=\u001b[39m\u001b[38;5;186m'distcnt'\u001b[39m\n",
      "\u001b[38;5;15m                            \u001b[39m\u001b[38;5;15mvalue\u001b[39m\u001b[38;5;15m \u001b[39m\u001b[38;5;197m->\u001b[39m\n",
      "\u001b[38;5;15m                              \u001b[39m\u001b[38;5;148mComparisonOperatorNode\u001b[39m\u001b[38;5;197m(\u001b[39m\u001b[38;5;197m)\u001b[39m\n",
      "\u001b[38;5;15m                                \u001b[39m\u001b[38;5;242m# identifiers: comparison_operator, comparison_operator_, comparisonoperator, comparisonoperatornode\u001b[39m\n",
      "\u001b[38;5;15m                                \u001b[39m\u001b[38;5;15mfirst\u001b[39m\u001b[38;5;197m=\u001b[39m\u001b[38;5;186m'<'\u001b[39m\n",
      "\u001b[38;5;15m                                \u001b[39m\u001b[38;5;15msecond\u001b[39m\u001b[38;5;197m=\u001b[39m\u001b[38;5;186m''\u001b[39m\n",
      "\u001b[38;5;15m                            \u001b[39m\u001b[38;5;15msecond\u001b[39m\u001b[38;5;15m \u001b[39m\u001b[38;5;197m->\u001b[39m\n",
      "\u001b[38;5;15m                              \u001b[39m\u001b[38;5;148mIntNode\u001b[39m\u001b[38;5;197m(\u001b[39m\u001b[38;5;197m)\u001b[39m\n",
      "\u001b[38;5;15m                                \u001b[39m\u001b[38;5;242m# identifiers: int, int_, intnode\u001b[39m\n",
      "\u001b[38;5;15m                                \u001b[39m\u001b[38;5;15mvalue\u001b[39m\u001b[38;5;197m=\u001b[39m\u001b[38;5;186m'10'\u001b[39m\n",
      "\u001b[38;5;15m                    \u001b[39m\u001b[38;5;15mvalue\u001b[39m\u001b[38;5;15m \u001b[39m\u001b[38;5;197m->\u001b[39m\n",
      "\u001b[38;5;15m                      \u001b[39m\u001b[38;5;197m*\u001b[39m\u001b[38;5;81m ReturnNode\u001b[39m\u001b[38;5;197m(\u001b[39m\u001b[38;5;197m)\u001b[39m\n",
      "\u001b[38;5;15m                          \u001b[39m\u001b[38;5;242m# identifiers: return, return_, returnnode\u001b[39m\n",
      "\u001b[38;5;15m                          \u001b[39m\u001b[38;5;15mvalue\u001b[39m\u001b[38;5;15m \u001b[39m\u001b[38;5;197m->\u001b[39m\n",
      "\u001b[38;5;15m                            \u001b[39m\u001b[38;5;148mNameNode\u001b[39m\u001b[38;5;197m(\u001b[39m\u001b[38;5;197m)\u001b[39m\n",
      "\u001b[38;5;15m                              \u001b[39m\u001b[38;5;242m# identifiers: name, name_, namenode\u001b[39m\n",
      "\u001b[38;5;15m                              \u001b[39m\u001b[38;5;15mvalue\u001b[39m\u001b[38;5;197m=\u001b[39m\u001b[38;5;186m'False'\u001b[39m\n",
      "\u001b[38;5;15m                      \u001b[39m\u001b[38;5;197m*\u001b[39m\u001b[38;5;81m CommentNode\u001b[39m\u001b[38;5;197m(\u001b[39m\u001b[38;5;197m)\u001b[39m\n",
      "\u001b[38;5;15m                          \u001b[39m\u001b[38;5;242m# identifiers: comment, comment_, commentnode\u001b[39m\n",
      "\u001b[38;5;15m                          \u001b[39m\u001b[38;5;15mvalue\u001b[39m\u001b[38;5;197m=\u001b[39m\u001b[38;5;186m'# sd = df[col].std()'\u001b[39m\n",
      "\u001b[38;5;15m    \u001b[39m\u001b[38;5;197m*\u001b[39m\u001b[38;5;81m ReturnNode\u001b[39m\u001b[38;5;197m(\u001b[39m\u001b[38;5;197m)\u001b[39m\n",
      "\u001b[38;5;15m        \u001b[39m\u001b[38;5;242m# identifiers: return, return_, returnnode\u001b[39m\n",
      "\u001b[38;5;15m        \u001b[39m\u001b[38;5;15mvalue\u001b[39m\u001b[38;5;15m \u001b[39m\u001b[38;5;197m->\u001b[39m\n",
      "\u001b[38;5;15m          \u001b[39m\u001b[38;5;148mNameNode\u001b[39m\u001b[38;5;197m(\u001b[39m\u001b[38;5;197m)\u001b[39m\n",
      "\u001b[38;5;15m            \u001b[39m\u001b[38;5;242m# identifiers: name, name_, namenode\u001b[39m\n",
      "\u001b[38;5;15m            \u001b[39m\u001b[38;5;15mvalue\u001b[39m\u001b[38;5;197m=\u001b[39m\u001b[38;5;186m'True'\u001b[39m\n",
      "\u001b[38;5;15m    \u001b[39m\u001b[38;5;197m*\u001b[39m\u001b[38;5;81m EndlNode\u001b[39m\u001b[38;5;197m(\u001b[39m\u001b[38;5;197m)\u001b[39m\n",
      "\u001b[38;5;15m        \u001b[39m\u001b[38;5;242m# identifiers: endl, endl_, endlnode\u001b[39m\n",
      "\u001b[38;5;15m        \u001b[39m\u001b[38;5;15mvalue\u001b[39m\u001b[38;5;197m=\u001b[39m\u001b[38;5;186m'\\n'\u001b[39m\n",
      "\u001b[38;5;15m        \u001b[39m\u001b[38;5;15mindent\u001b[39m\u001b[38;5;197m=\u001b[39m\u001b[38;5;186m'    '\u001b[39m\n"
     ]
    }
   ],
   "source": [
    "theblock.help(-1)"
   ]
  },
  {
   "cell_type": "code",
   "execution_count": 44,
   "metadata": {},
   "outputs": [],
   "source": [
    "theblock.value.insert(1, \"print('your move')\")"
   ]
  },
  {
   "cell_type": "code",
   "execution_count": 45,
   "metadata": {},
   "outputs": [
    {
     "data": {
      "text/html": [
       "<div class=\"highlight\" style=\"background: #f8f8f8\"><pre style=\"line-height: 125%;\"><span></span><span style=\"color: #008000; font-weight: bold\">def</span> <span style=\"color: #0000FF\">isEnoughData</span>(<span style=\"color: #008000\">self</span>,df,columns):\n",
       "        <span style=\"color: #BA2121; font-style: italic\">&#39;&#39;&#39;</span>\n",
       "<span style=\"color: #BA2121; font-style: italic\">        Args:</span>\n",
       "<span style=\"color: #BA2121; font-style: italic\">            df -&gt; input dataframe</span>\n",
       "<span style=\"color: #BA2121; font-style: italic\">            columns -&gt; target feature name(list)</span>\n",
       "<span style=\"color: #BA2121; font-style: italic\">        Returns:</span>\n",
       "<span style=\"color: #BA2121; font-style: italic\">            It return True/False based on distinct value count of the target feature</span>\n",
       "<span style=\"color: #BA2121; font-style: italic\">        &#39;&#39;&#39;</span>\n",
       "        <span style=\"color: #008000\">print</span>(<span style=\"color: #BA2121\">&#39;your move&#39;</span>)\n",
       "        <span style=\"color: #008000; font-weight: bold\">for</span> col <span style=\"color: #AA22FF; font-weight: bold\">in</span> columns:\n",
       "            distcnt <span style=\"color: #666666\">=</span> np<span style=\"color: #666666\">.</span>count_nonzero(df[col], axis<span style=\"color: #666666\">=0</span>)\n",
       "            <span style=\"color: #008000; font-weight: bold\">if</span> (distcnt <span style=\"color: #666666\">&lt;</span> <span style=\"color: #666666\">10</span>):\n",
       "                <span style=\"color: #008000; font-weight: bold\">return</span> <span style=\"color: #008000; font-weight: bold\">False</span>\n",
       "            <span style=\"color: #3D7B7B; font-style: italic\"># sd = df[col].std()</span>\n",
       "        <span style=\"color: #008000; font-weight: bold\">return</span> <span style=\"color: #008000; font-weight: bold\">True</span>\n",
       "\n",
       "        <span style=\"color: #008000\">print</span>(<span style=\"color: #BA2121\">&#39;your move&#39;</span>)\n",
       "    \n",
       "</pre></div>\n"
      ],
      "text/plain": [
       "<DefNode path=[86, 'value', 6], \"def isEnoughData... \" 140409471720016, on ClassNode 140409472086272>"
      ]
     },
     "execution_count": 45,
     "metadata": {},
     "output_type": "execute_result"
    }
   ],
   "source": [
    "theblock"
   ]
  },
  {
   "cell_type": "code",
   "execution_count": 46,
   "metadata": {},
   "outputs": [],
   "source": [
    "# Save modified code to ipynb file\n",
    "my_utils.dump_redbaron(theblock, \"dump.py\")"
   ]
  }
 ],
 "metadata": {
  "kernelspec": {
   "display_name": "Python 3.10.8 ('konferenv')",
   "language": "python",
   "name": "python3"
  },
  "language_info": {
   "codemirror_mode": {
    "name": "ipython",
    "version": 3
   },
   "file_extension": ".py",
   "mimetype": "text/x-python",
   "name": "python",
   "nbconvert_exporter": "python",
   "pygments_lexer": "ipython3",
   "version": "3.10.8"
  },
  "orig_nbformat": 4,
  "vscode": {
   "interpreter": {
    "hash": "7460d441b5a2df99d051490e5490331ce03b335220e9c7f658719b37819ef91b"
   }
  }
 },
 "nbformat": 4,
 "nbformat_minor": 2
}
