stuff = 1 + 2
thing = 3+4
print 'Beautiful result:', stuff 