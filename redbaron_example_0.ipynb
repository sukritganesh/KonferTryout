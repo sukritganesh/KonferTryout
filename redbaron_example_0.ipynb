{
 "cells": [
  {
   "cell_type": "code",
   "execution_count": 46,
   "metadata": {},
   "outputs": [],
   "source": [
    "from redbaron import RedBaron, NameNode\n",
    "import gorilla\n",
    "import json"
   ]
  },
  {
   "cell_type": "code",
   "execution_count": 83,
   "metadata": {},
   "outputs": [],
   "source": [
    "# red = RedBaron(\"a = 1\\nb=2\\nprint(a+b)\")\n",
    "red = RedBaron(\"stuff = 1 + 2\\nthing = 3+4\\nprint 'Beautiful result:', stuff \")"
   ]
  },
  {
   "cell_type": "code",
   "execution_count": 26,
   "metadata": {},
   "outputs": [],
   "source": [
    "with open(\"knn.ipynb\", \"r\") as source_code:\n",
    "    red = RedBaron(source_code.read())\n",
    "\n",
    "with open(\"dump.ipynb\", \"w\") as source_code:\n",
    "    source_code.write(red.dumps())\n",
    "\n",
    "# with open(\"sample_program_0.py\", \"r\") as source_code:\n",
    "#     red = RedBaron(source_code.read())\n",
    "\n",
    "# with open(\"dump.py\", \"w\") as source_code:\n",
    "#     source_code.write(red.dumps())"
   ]
  },
  {
   "cell_type": "code",
   "execution_count": 87,
   "metadata": {},
   "outputs": [
    {
     "name": "stdout",
     "output_type": "stream",
     "text": [
      "\u001b[38;5;148mAssignmentNode\u001b[39m\u001b[38;5;197m(\u001b[39m\u001b[38;5;197m)\u001b[39m\n",
      "\u001b[38;5;15m  \u001b[39m\u001b[38;5;242m# identifiers: assign, assignment, assignment_, assignmentnode\u001b[39m\n",
      "\u001b[38;5;15m  \u001b[39m\u001b[38;5;15moperator\u001b[39m\u001b[38;5;197m=\u001b[39m\u001b[38;5;186m''\u001b[39m\n",
      "\u001b[38;5;15m  \u001b[39m\u001b[38;5;15mtarget\u001b[39m\u001b[38;5;15m \u001b[39m\u001b[38;5;197m->\u001b[39m\n",
      "\u001b[38;5;15m    \u001b[39m\u001b[38;5;148mNameNode\u001b[39m\u001b[38;5;197m(\u001b[39m\u001b[38;5;197m)\u001b[39m\n",
      "\u001b[38;5;15m      \u001b[39m\u001b[38;5;242m# identifiers: name, name_, namenode\u001b[39m\n",
      "\u001b[38;5;15m      \u001b[39m\u001b[38;5;15mvalue\u001b[39m\u001b[38;5;197m=\u001b[39m\u001b[38;5;186m'thing'\u001b[39m\n",
      "\u001b[38;5;15m  \u001b[39m\u001b[38;5;15mannotation\u001b[39m\u001b[38;5;15m \u001b[39m\u001b[38;5;197m->\u001b[39m\n",
      "\u001b[38;5;15m    \u001b[39m\u001b[38;5;186mNone\u001b[39m\n",
      "\u001b[38;5;15m  \u001b[39m\u001b[38;5;15mvalue\u001b[39m\u001b[38;5;15m \u001b[39m\u001b[38;5;197m->\u001b[39m\n",
      "\u001b[38;5;15m    \u001b[39m\u001b[38;5;148mBinaryOperatorNode\u001b[39m\u001b[38;5;197m(\u001b[39m\u001b[38;5;197m)\u001b[39m\n",
      "\u001b[38;5;15m      \u001b[39m\u001b[38;5;242m# identifiers: binary_operator, binary_operator_, binaryoperator, binaryoperatornode\u001b[39m\n",
      "\u001b[38;5;15m      \u001b[39m\u001b[38;5;15mvalue\u001b[39m\u001b[38;5;197m=\u001b[39m\u001b[38;5;186m'+'\u001b[39m\n",
      "\u001b[38;5;15m      \u001b[39m\u001b[38;5;15mfirst\u001b[39m\u001b[38;5;15m \u001b[39m\u001b[38;5;197m->\u001b[39m\n",
      "\u001b[38;5;15m        \u001b[39m\u001b[38;5;148mIntNode\u001b[39m\u001b[38;5;197m(\u001b[39m\u001b[38;5;197m)\u001b[39m\u001b[38;5;15m \u001b[39m\u001b[38;5;197m...\u001b[39m\n",
      "\u001b[38;5;15m      \u001b[39m\u001b[38;5;15msecond\u001b[39m\u001b[38;5;15m \u001b[39m\u001b[38;5;197m->\u001b[39m\n",
      "\u001b[38;5;15m        \u001b[39m\u001b[38;5;148mIntNode\u001b[39m\u001b[38;5;197m(\u001b[39m\u001b[38;5;197m)\u001b[39m\u001b[38;5;15m \u001b[39m\u001b[38;5;197m...\u001b[39m\n",
      "None\n"
     ]
    }
   ],
   "source": [
    "print(red[1].help())"
   ]
  },
  {
   "cell_type": "code",
   "execution_count": 105,
   "metadata": {},
   "outputs": [
    {
     "name": "stdout",
     "output_type": "stream",
     "text": [
      "0   <AssignmentNode path=[0], \"stuff = 1 + 2\" 140687167805600, on RedBaron 140686091221792>\n",
      "1   <AssignmentNode path=[2], \"thing = 3+4\" 140687167806368, on RedBaron 140686091221792>\n",
      "\n"
     ]
    }
   ],
   "source": [
    "print(red.find_all(\"assign\"))"
   ]
  }
 ],
 "metadata": {
  "kernelspec": {
   "display_name": "Python 3.10.8 ('konferenv')",
   "language": "python",
   "name": "python3"
  },
  "language_info": {
   "codemirror_mode": {
    "name": "ipython",
    "version": 3
   },
   "file_extension": ".py",
   "mimetype": "text/x-python",
   "name": "python",
   "nbconvert_exporter": "python",
   "pygments_lexer": "ipython3",
   "version": "3.10.8"
  },
  "orig_nbformat": 4,
  "vscode": {
   "interpreter": {
    "hash": "7460d441b5a2df99d051490e5490331ce03b335220e9c7f658719b37819ef91b"
   }
  }
 },
 "nbformat": 4,
 "nbformat_minor": 2
}
