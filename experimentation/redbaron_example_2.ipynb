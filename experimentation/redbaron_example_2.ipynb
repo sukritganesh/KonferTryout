{
 "cells": [
  {
   "cell_type": "code",
   "execution_count": 1,
   "metadata": {},
   "outputs": [],
   "source": [
    "from redbaron import RedBaron, NameNode\n",
    "import gorilla\n",
    "import json\n",
    "import my_utils"
   ]
  },
  {
   "cell_type": "code",
   "execution_count": 3,
   "metadata": {},
   "outputs": [],
   "source": [
    "with open(\"../sample_programs/sample_program_2.py\", \"r\") as source_code:\n",
    "    red = RedBaron(source_code.read())"
   ]
  },
  {
   "cell_type": "code",
   "execution_count": 10,
   "metadata": {},
   "outputs": [
    {
     "name": "stdout",
     "output_type": "stream",
     "text": [
      "\u001b[38;5;148mAssignmentNode\u001b[39m\u001b[38;5;197m(\u001b[39m\u001b[38;5;197m)\u001b[39m\n",
      "\u001b[38;5;15m  \u001b[39m\u001b[38;5;242m# identifiers: assign, assignment, assignment_, assignmentnode\u001b[39m\n",
      "\u001b[38;5;15m  \u001b[39m\u001b[38;5;15moperator\u001b[39m\u001b[38;5;197m=\u001b[39m\u001b[38;5;186m''\u001b[39m\n",
      "\u001b[38;5;15m  \u001b[39m\u001b[38;5;15mtarget\u001b[39m\u001b[38;5;15m \u001b[39m\u001b[38;5;197m->\u001b[39m\n",
      "\u001b[38;5;15m    \u001b[39m\u001b[38;5;148mNameNode\u001b[39m\u001b[38;5;197m(\u001b[39m\u001b[38;5;197m)\u001b[39m\n",
      "\u001b[38;5;15m      \u001b[39m\u001b[38;5;242m# identifiers: name, name_, namenode\u001b[39m\n",
      "\u001b[38;5;15m      \u001b[39m\u001b[38;5;15mvalue\u001b[39m\u001b[38;5;197m=\u001b[39m\u001b[38;5;186m'result'\u001b[39m\n",
      "\u001b[38;5;15m  \u001b[39m\u001b[38;5;15mannotation\u001b[39m\u001b[38;5;15m \u001b[39m\u001b[38;5;197m->\u001b[39m\n",
      "\u001b[38;5;15m    \u001b[39m\u001b[38;5;186mNone\u001b[39m\n",
      "\u001b[38;5;15m  \u001b[39m\u001b[38;5;15mvalue\u001b[39m\u001b[38;5;15m \u001b[39m\u001b[38;5;197m->\u001b[39m\n",
      "\u001b[38;5;15m    \u001b[39m\u001b[38;5;148mAtomtrailersNode\u001b[39m\u001b[38;5;197m(\u001b[39m\u001b[38;5;197m)\u001b[39m\n",
      "\u001b[38;5;15m      \u001b[39m\u001b[38;5;242m# identifiers: atomtrailers, atomtrailers_, atomtrailersnode\u001b[39m\n",
      "\u001b[38;5;15m      \u001b[39m\u001b[38;5;15mvalue\u001b[39m\u001b[38;5;15m \u001b[39m\u001b[38;5;197m->\u001b[39m\n",
      "\u001b[38;5;15m        \u001b[39m\u001b[38;5;197m*\u001b[39m\u001b[38;5;81m NameNode\u001b[39m\u001b[38;5;197m(\u001b[39m\u001b[38;5;197m)\u001b[39m\n",
      "\u001b[38;5;15m            \u001b[39m\u001b[38;5;242m# identifiers: name, name_, namenode\u001b[39m\n",
      "\u001b[38;5;15m            \u001b[39m\u001b[38;5;15mvalue\u001b[39m\u001b[38;5;197m=\u001b[39m\u001b[38;5;186m'simple_program'\u001b[39m\n",
      "\u001b[38;5;15m        \u001b[39m\u001b[38;5;197m*\u001b[39m\u001b[38;5;81m CallNode\u001b[39m\u001b[38;5;197m(\u001b[39m\u001b[38;5;197m)\u001b[39m\n",
      "\u001b[38;5;15m            \u001b[39m\u001b[38;5;242m# identifiers: call, call_, callnode\u001b[39m\n",
      "\u001b[38;5;15m            \u001b[39m\u001b[38;5;15mvalue\u001b[39m\u001b[38;5;15m \u001b[39m\u001b[38;5;197m->\u001b[39m\n",
      "\u001b[38;5;15m              \u001b[39m\u001b[38;5;197m*\u001b[39m\u001b[38;5;81m CallArgumentNode\u001b[39m\u001b[38;5;197m(\u001b[39m\u001b[38;5;197m)\u001b[39m\n",
      "\u001b[38;5;15m                  \u001b[39m\u001b[38;5;242m# identifiers: call_argument, call_argument_, callargument, callargumentnode\u001b[39m\n",
      "\u001b[38;5;15m                  \u001b[39m\u001b[38;5;15mtarget\u001b[39m\u001b[38;5;15m \u001b[39m\u001b[38;5;197m->\u001b[39m\n",
      "\u001b[38;5;15m                    \u001b[39m\u001b[38;5;186mNone\u001b[39m\n",
      "\u001b[38;5;15m                  \u001b[39m\u001b[38;5;15mvalue\u001b[39m\u001b[38;5;15m \u001b[39m\u001b[38;5;197m->\u001b[39m\n",
      "\u001b[38;5;15m                    \u001b[39m\u001b[38;5;148mIntNode\u001b[39m\u001b[38;5;197m(\u001b[39m\u001b[38;5;197m)\u001b[39m\n",
      "\u001b[38;5;15m                      \u001b[39m\u001b[38;5;242m# identifiers: int, int_, intnode\u001b[39m\n",
      "\u001b[38;5;15m                      \u001b[39m\u001b[38;5;15mvalue\u001b[39m\u001b[38;5;197m=\u001b[39m\u001b[38;5;186m'2'\u001b[39m\n",
      "\u001b[38;5;15m              \u001b[39m\u001b[38;5;197m*\u001b[39m\u001b[38;5;81m CallArgumentNode\u001b[39m\u001b[38;5;197m(\u001b[39m\u001b[38;5;197m)\u001b[39m\n",
      "\u001b[38;5;15m                  \u001b[39m\u001b[38;5;242m# identifiers: call_argument, call_argument_, callargument, callargumentnode\u001b[39m\n",
      "\u001b[38;5;15m                  \u001b[39m\u001b[38;5;15mtarget\u001b[39m\u001b[38;5;15m \u001b[39m\u001b[38;5;197m->\u001b[39m\n",
      "\u001b[38;5;15m                    \u001b[39m\u001b[38;5;186mNone\u001b[39m\n",
      "\u001b[38;5;15m                  \u001b[39m\u001b[38;5;15mvalue\u001b[39m\u001b[38;5;15m \u001b[39m\u001b[38;5;197m->\u001b[39m\n",
      "\u001b[38;5;15m                    \u001b[39m\u001b[38;5;148mNameNode\u001b[39m\u001b[38;5;197m(\u001b[39m\u001b[38;5;197m)\u001b[39m\n",
      "\u001b[38;5;15m                      \u001b[39m\u001b[38;5;242m# identifiers: name, name_, namenode\u001b[39m\n",
      "\u001b[38;5;15m                      \u001b[39m\u001b[38;5;15mvalue\u001b[39m\u001b[38;5;197m=\u001b[39m\u001b[38;5;186m'x'\u001b[39m\n",
      "\u001b[38;5;15m              \u001b[39m\u001b[38;5;197m*\u001b[39m\u001b[38;5;81m CallArgumentNode\u001b[39m\u001b[38;5;197m(\u001b[39m\u001b[38;5;197m)\u001b[39m\n",
      "\u001b[38;5;15m                  \u001b[39m\u001b[38;5;242m# identifiers: call_argument, call_argument_, callargument, callargumentnode\u001b[39m\n",
      "\u001b[38;5;15m                  \u001b[39m\u001b[38;5;15mtarget\u001b[39m\u001b[38;5;15m \u001b[39m\u001b[38;5;197m->\u001b[39m\n",
      "\u001b[38;5;15m                    \u001b[39m\u001b[38;5;148mNameNode\u001b[39m\u001b[38;5;197m(\u001b[39m\u001b[38;5;197m)\u001b[39m\n",
      "\u001b[38;5;15m                      \u001b[39m\u001b[38;5;242m# identifiers: name, name_, namenode\u001b[39m\n",
      "\u001b[38;5;15m                      \u001b[39m\u001b[38;5;15mvalue\u001b[39m\u001b[38;5;197m=\u001b[39m\u001b[38;5;186m'y'\u001b[39m\n",
      "\u001b[38;5;15m                  \u001b[39m\u001b[38;5;15mvalue\u001b[39m\u001b[38;5;15m \u001b[39m\u001b[38;5;197m->\u001b[39m\n",
      "\u001b[38;5;15m                    \u001b[39m\u001b[38;5;148mIntNode\u001b[39m\u001b[38;5;197m(\u001b[39m\u001b[38;5;197m)\u001b[39m\n",
      "\u001b[38;5;15m                      \u001b[39m\u001b[38;5;242m# identifiers: int, int_, intnode\u001b[39m\n",
      "\u001b[38;5;15m                      \u001b[39m\u001b[38;5;15mvalue\u001b[39m\u001b[38;5;197m=\u001b[39m\u001b[38;5;186m'8'\u001b[39m\n"
     ]
    }
   ],
   "source": [
    "red[6].help(-1)"
   ]
  },
  {
   "cell_type": "code",
   "execution_count": null,
   "metadata": {},
   "outputs": [
    {
     "name": "stdout",
     "output_type": "stream",
     "text": [
      "0   <IntNode path=[0, 'value', 0, 'value', 'value', 0, 'value', 2, 'value'], \"4\" 140543553076768, on DictitemNode 140543553075520>\n",
      "1   <IntNode path=[0, 'value', 0, 'value', 'value', 2, 'value', 2, 'value'], \"5\" 140543553085904, on DictitemNode 140543553084656>\n",
      "2   <IntNode path=[0, 'value', 0, 'value', 'value', 4, 'value', 2, 'value'], \"6\" 140543553095856, on DictitemNode 140543553094608>\n",
      "3   <IntNode path=[0, 'value', 2, 'value', 'value', 2, 'value', 'value', 0, 'value', 'value', 2, 'value'], \"3\" 140543553152496, on DictitemNode 140543553151248>\n",
      "4   <IntNode path=[0, 'value', 2, 'value', 'value', 4, 'value'], \"4\" 140543553149616, on DictitemNode 140543553143280>\n",
      "5   <IntNode path=[0, 'value', 4, 'value'], \"4\" 140543553094272, on DictitemNode 140543553069856>\n",
      "6   <IntNode path=[0, 'value', 6, 'value'], \"2\" 140543553183680, on DictitemNode 140543553108768>\n",
      "\n"
     ]
    }
   ],
   "source": [
    "i1 = red.find_all(\"int\")\n",
    "print(i1)"
   ]
  },
  {
   "cell_type": "code",
   "execution_count": null,
   "metadata": {},
   "outputs": [
    {
     "name": "stdout",
     "output_type": "stream",
     "text": [
      "\u001b[38;5;141m1\u001b[39m\n",
      "\n"
     ]
    },
    {
     "data": {
      "text/html": [
       "<div class=\"highlight\" style=\"background: #f8f8f8\"><pre style=\"line-height: 125%;\"><span></span><span style=\"color: #666666\">1</span> <span style=\"color: #666666\">+</span> <span style=\"color: #666666\">2</span>\n",
       "</pre></div>\n"
      ],
      "text/plain": [
       "<BinaryOperatorNode path=[0, 'value'], \"1 + 2\" 140687166610384, on AssignmentNode 140687166617296>"
      ]
     },
     "execution_count": 178,
     "metadata": {},
     "output_type": "execute_result"
    }
   ],
   "source": [
    "am = red.find(\"int\", value='1')\n",
    "print(am)\n",
    "am.parent"
   ]
  },
  {
   "cell_type": "code",
   "execution_count": null,
   "metadata": {},
   "outputs": [
    {
     "data": {
      "text/html": [
       "<table><tr><th>Index</th><th>node</th></tr><tr><td>0</td><td><div class=\"highlight\" style=\"background: #f8f8f8\"><pre style=\"line-height: 125%;\"><span></span>stuff <span style=\"color: #666666\">=</span> <span style=\"color: #666666\">1+4</span>\n",
       "</pre></div>\n",
       "</td></tr><tr><td>1</td><td><div class=\"highlight\" style=\"background: #f8f8f8\"><pre style=\"line-height: 125%;\"><span></span>thing <span style=\"color: #666666\">=</span> <span style=\"color: #666666\">3+4</span>\n",
       "</pre></div>\n",
       "</td></tr><tr><td>2</td><td><div class=\"highlight\" style=\"background: #f8f8f8\"><pre style=\"line-height: 125%;\"><span></span><span style=\"color: #008000\">print</span> <span style=\"color: #BA2121\">&#39;Beautiful result:&#39;</span>, stuff\n",
       "</pre></div>\n",
       "</td></tr><tr><td>3</td><td><div class=\"highlight\" style=\"background: #f8f8f8\"><pre style=\"line-height: 125%;\"><span></span> \n",
       "</pre></div>\n",
       "</td></tr></table>"
      ],
      "text/plain": [
       "<RedBaron [], \"stuff = 1+4\\nthi... \" 140685821211312, on NoneType 4342031760>"
      ]
     },
     "execution_count": 179,
     "metadata": {},
     "output_type": "execute_result"
    }
   ],
   "source": [
    "am.parent=\"1+4\"\n",
    "red[0].value = \"1+4\"\n",
    "red"
   ]
  },
  {
   "cell_type": "code",
   "execution_count": null,
   "metadata": {},
   "outputs": [],
   "source": [
    "# Save modified code to ipynb file\n",
    "\n",
    "my_utils.dump_redbaron(red, \"dump.py\")"
   ]
  }
 ],
 "metadata": {
  "kernelspec": {
   "display_name": "Python 3.10.8 ('konferenv')",
   "language": "python",
   "name": "python3"
  },
  "language_info": {
   "codemirror_mode": {
    "name": "ipython",
    "version": 3
   },
   "file_extension": ".py",
   "mimetype": "text/x-python",
   "name": "python",
   "nbconvert_exporter": "python",
   "pygments_lexer": "ipython3",
   "version": "3.10.8"
  },
  "orig_nbformat": 4,
  "vscode": {
   "interpreter": {
    "hash": "7460d441b5a2df99d051490e5490331ce03b335220e9c7f658719b37819ef91b"
   }
  }
 },
 "nbformat": 4,
 "nbformat_minor": 2
}
