{
 "cells": [
  {
   "cell_type": "code",
   "execution_count": 1,
   "metadata": {},
   "outputs": [],
   "source": [
    "from redbaron import RedBaron, NameNode\n",
    "import gorilla\n",
    "import json\n",
    "import my_utils"
   ]
  },
  {
   "cell_type": "code",
   "execution_count": 2,
   "metadata": {},
   "outputs": [
    {
     "ename": "FileNotFoundError",
     "evalue": "[Errno 2] No such file or directory: 'sample_program_1.ipynb'",
     "output_type": "error",
     "traceback": [
      "\u001b[0;31m---------------------------------------------------------------------------\u001b[0m",
      "\u001b[0;31mFileNotFoundError\u001b[0m                         Traceback (most recent call last)",
      "Cell \u001b[0;32mIn [2], line 1\u001b[0m\n\u001b[0;32m----> 1\u001b[0m \u001b[39mwith\u001b[39;00m \u001b[39mopen\u001b[39;49m(\u001b[39m\"\u001b[39;49m\u001b[39msample_program_1.ipynb\u001b[39;49m\u001b[39m\"\u001b[39;49m, \u001b[39m\"\u001b[39;49m\u001b[39mr\u001b[39;49m\u001b[39m\"\u001b[39;49m) \u001b[39mas\u001b[39;00m source_code:\n\u001b[1;32m      2\u001b[0m     red \u001b[39m=\u001b[39m RedBaron(source_code\u001b[39m.\u001b[39mread())\n",
      "File \u001b[0;32m~/opt/anaconda3/envs/konferenv/lib/python3.10/site-packages/IPython/core/interactiveshell.py:282\u001b[0m, in \u001b[0;36m_modified_open\u001b[0;34m(file, *args, **kwargs)\u001b[0m\n\u001b[1;32m    275\u001b[0m \u001b[39mif\u001b[39;00m file \u001b[39min\u001b[39;00m {\u001b[39m0\u001b[39m, \u001b[39m1\u001b[39m, \u001b[39m2\u001b[39m}:\n\u001b[1;32m    276\u001b[0m     \u001b[39mraise\u001b[39;00m \u001b[39mValueError\u001b[39;00m(\n\u001b[1;32m    277\u001b[0m         \u001b[39mf\u001b[39m\u001b[39m\"\u001b[39m\u001b[39mIPython won\u001b[39m\u001b[39m'\u001b[39m\u001b[39mt let you open fd=\u001b[39m\u001b[39m{\u001b[39;00mfile\u001b[39m}\u001b[39;00m\u001b[39m by default \u001b[39m\u001b[39m\"\u001b[39m\n\u001b[1;32m    278\u001b[0m         \u001b[39m\"\u001b[39m\u001b[39mas it is likely to crash IPython. If you know what you are doing, \u001b[39m\u001b[39m\"\u001b[39m\n\u001b[1;32m    279\u001b[0m         \u001b[39m\"\u001b[39m\u001b[39myou can use builtins\u001b[39m\u001b[39m'\u001b[39m\u001b[39m open.\u001b[39m\u001b[39m\"\u001b[39m\n\u001b[1;32m    280\u001b[0m     )\n\u001b[0;32m--> 282\u001b[0m \u001b[39mreturn\u001b[39;00m io_open(file, \u001b[39m*\u001b[39;49margs, \u001b[39m*\u001b[39;49m\u001b[39m*\u001b[39;49mkwargs)\n",
      "\u001b[0;31mFileNotFoundError\u001b[0m: [Errno 2] No such file or directory: 'sample_program_1.ipynb'"
     ]
    }
   ],
   "source": [
    "with open(\"sample_program_1.ipynb\", \"r\") as source_code:\n",
    "    red = RedBaron(source_code.read())"
   ]
  },
  {
   "cell_type": "markdown",
   "metadata": {},
   "source": [
    "Use Help() and indexing to print out structures of nodes. Can contain list of nodes, or value & target child nodes. Other formats also possible. Basically helps understand AST."
   ]
  },
  {
   "cell_type": "code",
   "execution_count": null,
   "metadata": {},
   "outputs": [
    {
     "name": "stdout",
     "output_type": "stream",
     "text": [
      "\u001b[38;5;148mDictitemNode\u001b[39m\u001b[38;5;197m(\u001b[39m\u001b[38;5;197m)\u001b[39m\n",
      "\u001b[38;5;15m  \u001b[39m\u001b[38;5;242m# identifiers: dictitem, dictitem_, dictitemnode\u001b[39m\n",
      "\u001b[38;5;15m  \u001b[39m\u001b[38;5;15mkey\u001b[39m\u001b[38;5;15m \u001b[39m\u001b[38;5;197m->\u001b[39m\n",
      "\u001b[38;5;15m    \u001b[39m\u001b[38;5;148mStringNode\u001b[39m\u001b[38;5;197m(\u001b[39m\u001b[38;5;197m)\u001b[39m\n",
      "\u001b[38;5;15m      \u001b[39m\u001b[38;5;242m# identifiers: string, string_, stringnode\u001b[39m\n",
      "\u001b[38;5;15m      \u001b[39m\u001b[38;5;15mvalue\u001b[39m\u001b[38;5;197m=\u001b[39m\u001b[38;5;186m'\"metadata\"'\u001b[39m\n",
      "\u001b[38;5;15m  \u001b[39m\u001b[38;5;15mvalue\u001b[39m\u001b[38;5;15m \u001b[39m\u001b[38;5;197m->\u001b[39m\n",
      "\u001b[38;5;15m    \u001b[39m\u001b[38;5;148mDictNode\u001b[39m\u001b[38;5;197m(\u001b[39m\u001b[38;5;197m)\u001b[39m\n",
      "\u001b[38;5;15m      \u001b[39m\u001b[38;5;242m# identifiers: dict, dict_, dictnode\u001b[39m\n",
      "\u001b[38;5;15m      \u001b[39m\u001b[38;5;15mvalue\u001b[39m\u001b[38;5;15m \u001b[39m\u001b[38;5;197m->\u001b[39m\n",
      "\u001b[38;5;15m        \u001b[39m\u001b[38;5;197m*\u001b[39m\u001b[38;5;81m DictitemNode\u001b[39m\u001b[38;5;197m(\u001b[39m\u001b[38;5;197m)\u001b[39m\n",
      "\u001b[38;5;15m            \u001b[39m\u001b[38;5;242m# identifiers: dictitem, dictitem_, dictitemnode\u001b[39m\n",
      "\u001b[38;5;15m            \u001b[39m\u001b[38;5;15mkey\u001b[39m\u001b[38;5;15m \u001b[39m\u001b[38;5;197m->\u001b[39m\n",
      "\u001b[38;5;15m              \u001b[39m\u001b[38;5;148mStringNode\u001b[39m\u001b[38;5;197m(\u001b[39m\u001b[38;5;197m)\u001b[39m\n",
      "\u001b[38;5;15m                \u001b[39m\u001b[38;5;242m# identifiers: string, string_, stringnode\u001b[39m\n",
      "\u001b[38;5;15m                \u001b[39m\u001b[38;5;15mvalue\u001b[39m\u001b[38;5;197m=\u001b[39m\u001b[38;5;186m'\"kernelspec\"'\u001b[39m\n",
      "\u001b[38;5;15m            \u001b[39m\u001b[38;5;15mvalue\u001b[39m\u001b[38;5;15m \u001b[39m\u001b[38;5;197m->\u001b[39m\n",
      "\u001b[38;5;15m              \u001b[39m\u001b[38;5;148mDictNode\u001b[39m\u001b[38;5;197m(\u001b[39m\u001b[38;5;197m)\u001b[39m\n",
      "\u001b[38;5;15m                \u001b[39m\u001b[38;5;242m# identifiers: dict, dict_, dictnode\u001b[39m\n",
      "\u001b[38;5;15m                \u001b[39m\u001b[38;5;15mvalue\u001b[39m\u001b[38;5;15m \u001b[39m\u001b[38;5;197m->\u001b[39m\n",
      "\u001b[38;5;15m                  \u001b[39m\u001b[38;5;197m*\u001b[39m\u001b[38;5;81m DictitemNode\u001b[39m\u001b[38;5;197m(\u001b[39m\u001b[38;5;197m)\u001b[39m\n",
      "\u001b[38;5;15m                      \u001b[39m\u001b[38;5;242m# identifiers: dictitem, dictitem_, dictitemnode\u001b[39m\n",
      "\u001b[38;5;15m                      \u001b[39m\u001b[38;5;15mkey\u001b[39m\u001b[38;5;15m \u001b[39m\u001b[38;5;197m->\u001b[39m\n",
      "\u001b[38;5;15m                        \u001b[39m\u001b[38;5;148mStringNode\u001b[39m\u001b[38;5;197m(\u001b[39m\u001b[38;5;197m)\u001b[39m\n",
      "\u001b[38;5;15m                          \u001b[39m\u001b[38;5;242m# identifiers: string, string_, stringnode\u001b[39m\n",
      "\u001b[38;5;15m                          \u001b[39m\u001b[38;5;15mvalue\u001b[39m\u001b[38;5;197m=\u001b[39m\u001b[38;5;186m'\"display_name\"'\u001b[39m\n",
      "\u001b[38;5;15m                      \u001b[39m\u001b[38;5;15mvalue\u001b[39m\u001b[38;5;15m \u001b[39m\u001b[38;5;197m->\u001b[39m\n",
      "\u001b[38;5;15m                        \u001b[39m\u001b[38;5;148mStringNode\u001b[39m\u001b[38;5;197m(\u001b[39m\u001b[38;5;197m)\u001b[39m\n",
      "\u001b[38;5;15m                          \u001b[39m\u001b[38;5;242m# identifiers: string, string_, stringnode\u001b[39m\n",
      "\u001b[38;5;15m                          \u001b[39m\u001b[38;5;15mvalue\u001b[39m\u001b[38;5;197m=\u001b[39m\u001b[38;5;186m'\"Python 3.10.8 (\\'konferenv\\')\"'\u001b[39m\n",
      "\u001b[38;5;15m                  \u001b[39m\u001b[38;5;197m*\u001b[39m\u001b[38;5;81m DictitemNode\u001b[39m\u001b[38;5;197m(\u001b[39m\u001b[38;5;197m)\u001b[39m\n",
      "\u001b[38;5;15m                      \u001b[39m\u001b[38;5;242m# identifiers: dictitem, dictitem_, dictitemnode\u001b[39m\n",
      "\u001b[38;5;15m                      \u001b[39m\u001b[38;5;15mkey\u001b[39m\u001b[38;5;15m \u001b[39m\u001b[38;5;197m->\u001b[39m\n",
      "\u001b[38;5;15m                        \u001b[39m\u001b[38;5;148mStringNode\u001b[39m\u001b[38;5;197m(\u001b[39m\u001b[38;5;197m)\u001b[39m\n",
      "\u001b[38;5;15m                          \u001b[39m\u001b[38;5;242m# identifiers: string, string_, stringnode\u001b[39m\n",
      "\u001b[38;5;15m                          \u001b[39m\u001b[38;5;15mvalue\u001b[39m\u001b[38;5;197m=\u001b[39m\u001b[38;5;186m'\"language\"'\u001b[39m\n",
      "\u001b[38;5;15m                      \u001b[39m\u001b[38;5;15mvalue\u001b[39m\u001b[38;5;15m \u001b[39m\u001b[38;5;197m->\u001b[39m\n",
      "\u001b[38;5;15m                        \u001b[39m\u001b[38;5;148mStringNode\u001b[39m\u001b[38;5;197m(\u001b[39m\u001b[38;5;197m)\u001b[39m\n",
      "\u001b[38;5;15m                          \u001b[39m\u001b[38;5;242m# identifiers: string, string_, stringnode\u001b[39m\n",
      "\u001b[38;5;15m                          \u001b[39m\u001b[38;5;15mvalue\u001b[39m\u001b[38;5;197m=\u001b[39m\u001b[38;5;186m'\"python\"'\u001b[39m\n",
      "\u001b[38;5;15m                  \u001b[39m\u001b[38;5;197m*\u001b[39m\u001b[38;5;81m DictitemNode\u001b[39m\u001b[38;5;197m(\u001b[39m\u001b[38;5;197m)\u001b[39m\n",
      "\u001b[38;5;15m                      \u001b[39m\u001b[38;5;242m# identifiers: dictitem, dictitem_, dictitemnode\u001b[39m\n",
      "\u001b[38;5;15m                      \u001b[39m\u001b[38;5;15mkey\u001b[39m\u001b[38;5;15m \u001b[39m\u001b[38;5;197m->\u001b[39m\n",
      "\u001b[38;5;15m                        \u001b[39m\u001b[38;5;148mStringNode\u001b[39m\u001b[38;5;197m(\u001b[39m\u001b[38;5;197m)\u001b[39m\n",
      "\u001b[38;5;15m                          \u001b[39m\u001b[38;5;242m# identifiers: string, string_, stringnode\u001b[39m\n",
      "\u001b[38;5;15m                          \u001b[39m\u001b[38;5;15mvalue\u001b[39m\u001b[38;5;197m=\u001b[39m\u001b[38;5;186m'\"name\"'\u001b[39m\n",
      "\u001b[38;5;15m                      \u001b[39m\u001b[38;5;15mvalue\u001b[39m\u001b[38;5;15m \u001b[39m\u001b[38;5;197m->\u001b[39m\n",
      "\u001b[38;5;15m                        \u001b[39m\u001b[38;5;148mStringNode\u001b[39m\u001b[38;5;197m(\u001b[39m\u001b[38;5;197m)\u001b[39m\n",
      "\u001b[38;5;15m                          \u001b[39m\u001b[38;5;242m# identifiers: string, string_, stringnode\u001b[39m\n",
      "\u001b[38;5;15m                          \u001b[39m\u001b[38;5;15mvalue\u001b[39m\u001b[38;5;197m=\u001b[39m\u001b[38;5;186m'\"python3\"'\u001b[39m\n",
      "\u001b[38;5;15m        \u001b[39m\u001b[38;5;197m*\u001b[39m\u001b[38;5;81m DictitemNode\u001b[39m\u001b[38;5;197m(\u001b[39m\u001b[38;5;197m)\u001b[39m\n",
      "\u001b[38;5;15m            \u001b[39m\u001b[38;5;242m# identifiers: dictitem, dictitem_, dictitemnode\u001b[39m\n",
      "\u001b[38;5;15m            \u001b[39m\u001b[38;5;15mkey\u001b[39m\u001b[38;5;15m \u001b[39m\u001b[38;5;197m->\u001b[39m\n",
      "\u001b[38;5;15m              \u001b[39m\u001b[38;5;148mStringNode\u001b[39m\u001b[38;5;197m(\u001b[39m\u001b[38;5;197m)\u001b[39m\n",
      "\u001b[38;5;15m                \u001b[39m\u001b[38;5;242m# identifiers: string, string_, stringnode\u001b[39m\n",
      "\u001b[38;5;15m                \u001b[39m\u001b[38;5;15mvalue\u001b[39m\u001b[38;5;197m=\u001b[39m\u001b[38;5;186m'\"language_info\"'\u001b[39m\n",
      "\u001b[38;5;15m            \u001b[39m\u001b[38;5;15mvalue\u001b[39m\u001b[38;5;15m \u001b[39m\u001b[38;5;197m->\u001b[39m\n",
      "\u001b[38;5;15m              \u001b[39m\u001b[38;5;148mDictNode\u001b[39m\u001b[38;5;197m(\u001b[39m\u001b[38;5;197m)\u001b[39m\n",
      "\u001b[38;5;15m                \u001b[39m\u001b[38;5;242m# identifiers: dict, dict_, dictnode\u001b[39m\n",
      "\u001b[38;5;15m                \u001b[39m\u001b[38;5;15mvalue\u001b[39m\u001b[38;5;15m \u001b[39m\u001b[38;5;197m->\u001b[39m\n",
      "\u001b[38;5;15m                  \u001b[39m\u001b[38;5;197m*\u001b[39m\u001b[38;5;81m DictitemNode\u001b[39m\u001b[38;5;197m(\u001b[39m\u001b[38;5;197m)\u001b[39m\n",
      "\u001b[38;5;15m                      \u001b[39m\u001b[38;5;242m# identifiers: dictitem, dictitem_, dictitemnode\u001b[39m\n",
      "\u001b[38;5;15m                      \u001b[39m\u001b[38;5;15mkey\u001b[39m\u001b[38;5;15m \u001b[39m\u001b[38;5;197m->\u001b[39m\n",
      "\u001b[38;5;15m                        \u001b[39m\u001b[38;5;148mStringNode\u001b[39m\u001b[38;5;197m(\u001b[39m\u001b[38;5;197m)\u001b[39m\n",
      "\u001b[38;5;15m                          \u001b[39m\u001b[38;5;242m# identifiers: string, string_, stringnode\u001b[39m\n",
      "\u001b[38;5;15m                          \u001b[39m\u001b[38;5;15mvalue\u001b[39m\u001b[38;5;197m=\u001b[39m\u001b[38;5;186m'\"codemirror_mode\"'\u001b[39m\n",
      "\u001b[38;5;15m                      \u001b[39m\u001b[38;5;15mvalue\u001b[39m\u001b[38;5;15m \u001b[39m\u001b[38;5;197m->\u001b[39m\n",
      "\u001b[38;5;15m                        \u001b[39m\u001b[38;5;148mDictNode\u001b[39m\u001b[38;5;197m(\u001b[39m\u001b[38;5;197m)\u001b[39m\n",
      "\u001b[38;5;15m                          \u001b[39m\u001b[38;5;242m# identifiers: dict, dict_, dictnode\u001b[39m\n",
      "\u001b[38;5;15m                          \u001b[39m\u001b[38;5;15mvalue\u001b[39m\u001b[38;5;15m \u001b[39m\u001b[38;5;197m->\u001b[39m\n",
      "\u001b[38;5;15m                            \u001b[39m\u001b[38;5;197m*\u001b[39m\u001b[38;5;81m DictitemNode\u001b[39m\u001b[38;5;197m(\u001b[39m\u001b[38;5;197m)\u001b[39m\n",
      "\u001b[38;5;15m                                \u001b[39m\u001b[38;5;242m# identifiers: dictitem, dictitem_, dictitemnode\u001b[39m\n",
      "\u001b[38;5;15m                                \u001b[39m\u001b[38;5;15mkey\u001b[39m\u001b[38;5;15m \u001b[39m\u001b[38;5;197m->\u001b[39m\n",
      "\u001b[38;5;15m                                  \u001b[39m\u001b[38;5;148mStringNode\u001b[39m\u001b[38;5;197m(\u001b[39m\u001b[38;5;197m)\u001b[39m\n",
      "\u001b[38;5;15m                                    \u001b[39m\u001b[38;5;242m# identifiers: string, string_, stringnode\u001b[39m\n",
      "\u001b[38;5;15m                                    \u001b[39m\u001b[38;5;15mvalue\u001b[39m\u001b[38;5;197m=\u001b[39m\u001b[38;5;186m'\"name\"'\u001b[39m\n",
      "\u001b[38;5;15m                                \u001b[39m\u001b[38;5;15mvalue\u001b[39m\u001b[38;5;15m \u001b[39m\u001b[38;5;197m->\u001b[39m\n",
      "\u001b[38;5;15m                                  \u001b[39m\u001b[38;5;148mStringNode\u001b[39m\u001b[38;5;197m(\u001b[39m\u001b[38;5;197m)\u001b[39m\n",
      "\u001b[38;5;15m                                    \u001b[39m\u001b[38;5;242m# identifiers: string, string_, stringnode\u001b[39m\n",
      "\u001b[38;5;15m                                    \u001b[39m\u001b[38;5;15mvalue\u001b[39m\u001b[38;5;197m=\u001b[39m\u001b[38;5;186m'\"ipython\"'\u001b[39m\n",
      "\u001b[38;5;15m                            \u001b[39m\u001b[38;5;197m*\u001b[39m\u001b[38;5;81m DictitemNode\u001b[39m\u001b[38;5;197m(\u001b[39m\u001b[38;5;197m)\u001b[39m\n",
      "\u001b[38;5;15m                                \u001b[39m\u001b[38;5;242m# identifiers: dictitem, dictitem_, dictitemnode\u001b[39m\n",
      "\u001b[38;5;15m                                \u001b[39m\u001b[38;5;15mkey\u001b[39m\u001b[38;5;15m \u001b[39m\u001b[38;5;197m->\u001b[39m\n",
      "\u001b[38;5;15m                                  \u001b[39m\u001b[38;5;148mStringNode\u001b[39m\u001b[38;5;197m(\u001b[39m\u001b[38;5;197m)\u001b[39m\n",
      "\u001b[38;5;15m                                    \u001b[39m\u001b[38;5;242m# identifiers: string, string_, stringnode\u001b[39m\n",
      "\u001b[38;5;15m                                    \u001b[39m\u001b[38;5;15mvalue\u001b[39m\u001b[38;5;197m=\u001b[39m\u001b[38;5;186m'\"version\"'\u001b[39m\n",
      "\u001b[38;5;15m                                \u001b[39m\u001b[38;5;15mvalue\u001b[39m\u001b[38;5;15m \u001b[39m\u001b[38;5;197m->\u001b[39m\n",
      "\u001b[38;5;15m                                  \u001b[39m\u001b[38;5;148mIntNode\u001b[39m\u001b[38;5;197m(\u001b[39m\u001b[38;5;197m)\u001b[39m\n",
      "\u001b[38;5;15m                                    \u001b[39m\u001b[38;5;242m# identifiers: int, int_, intnode\u001b[39m\n",
      "\u001b[38;5;15m                                    \u001b[39m\u001b[38;5;15mvalue\u001b[39m\u001b[38;5;197m=\u001b[39m\u001b[38;5;186m'3'\u001b[39m\n",
      "\u001b[38;5;15m                  \u001b[39m\u001b[38;5;197m*\u001b[39m\u001b[38;5;81m DictitemNode\u001b[39m\u001b[38;5;197m(\u001b[39m\u001b[38;5;197m)\u001b[39m\n",
      "\u001b[38;5;15m                      \u001b[39m\u001b[38;5;242m# identifiers: dictitem, dictitem_, dictitemnode\u001b[39m\n",
      "\u001b[38;5;15m                      \u001b[39m\u001b[38;5;15mkey\u001b[39m\u001b[38;5;15m \u001b[39m\u001b[38;5;197m->\u001b[39m\n",
      "\u001b[38;5;15m                        \u001b[39m\u001b[38;5;148mStringNode\u001b[39m\u001b[38;5;197m(\u001b[39m\u001b[38;5;197m)\u001b[39m\n",
      "\u001b[38;5;15m                          \u001b[39m\u001b[38;5;242m# identifiers: string, string_, stringnode\u001b[39m\n",
      "\u001b[38;5;15m                          \u001b[39m\u001b[38;5;15mvalue\u001b[39m\u001b[38;5;197m=\u001b[39m\u001b[38;5;186m'\"file_extension\"'\u001b[39m\n",
      "\u001b[38;5;15m                      \u001b[39m\u001b[38;5;15mvalue\u001b[39m\u001b[38;5;15m \u001b[39m\u001b[38;5;197m->\u001b[39m\n",
      "\u001b[38;5;15m                        \u001b[39m\u001b[38;5;148mStringNode\u001b[39m\u001b[38;5;197m(\u001b[39m\u001b[38;5;197m)\u001b[39m\n",
      "\u001b[38;5;15m                          \u001b[39m\u001b[38;5;242m# identifiers: string, string_, stringnode\u001b[39m\n",
      "\u001b[38;5;15m                          \u001b[39m\u001b[38;5;15mvalue\u001b[39m\u001b[38;5;197m=\u001b[39m\u001b[38;5;186m'\".py\"'\u001b[39m\n",
      "\u001b[38;5;15m                  \u001b[39m\u001b[38;5;197m*\u001b[39m\u001b[38;5;81m DictitemNode\u001b[39m\u001b[38;5;197m(\u001b[39m\u001b[38;5;197m)\u001b[39m\n",
      "\u001b[38;5;15m                      \u001b[39m\u001b[38;5;242m# identifiers: dictitem, dictitem_, dictitemnode\u001b[39m\n",
      "\u001b[38;5;15m                      \u001b[39m\u001b[38;5;15mkey\u001b[39m\u001b[38;5;15m \u001b[39m\u001b[38;5;197m->\u001b[39m\n",
      "\u001b[38;5;15m                        \u001b[39m\u001b[38;5;148mStringNode\u001b[39m\u001b[38;5;197m(\u001b[39m\u001b[38;5;197m)\u001b[39m\n",
      "\u001b[38;5;15m                          \u001b[39m\u001b[38;5;242m# identifiers: string, string_, stringnode\u001b[39m\n",
      "\u001b[38;5;15m                          \u001b[39m\u001b[38;5;15mvalue\u001b[39m\u001b[38;5;197m=\u001b[39m\u001b[38;5;186m'\"mimetype\"'\u001b[39m\n",
      "\u001b[38;5;15m                      \u001b[39m\u001b[38;5;15mvalue\u001b[39m\u001b[38;5;15m \u001b[39m\u001b[38;5;197m->\u001b[39m\n",
      "\u001b[38;5;15m                        \u001b[39m\u001b[38;5;148mStringNode\u001b[39m\u001b[38;5;197m(\u001b[39m\u001b[38;5;197m)\u001b[39m\n",
      "\u001b[38;5;15m                          \u001b[39m\u001b[38;5;242m# identifiers: string, string_, stringnode\u001b[39m\n",
      "\u001b[38;5;15m                          \u001b[39m\u001b[38;5;15mvalue\u001b[39m\u001b[38;5;197m=\u001b[39m\u001b[38;5;186m'\"text/x-python\"'\u001b[39m\n",
      "\u001b[38;5;15m                  \u001b[39m\u001b[38;5;197m*\u001b[39m\u001b[38;5;81m DictitemNode\u001b[39m\u001b[38;5;197m(\u001b[39m\u001b[38;5;197m)\u001b[39m\n",
      "\u001b[38;5;15m                      \u001b[39m\u001b[38;5;242m# identifiers: dictitem, dictitem_, dictitemnode\u001b[39m\n",
      "\u001b[38;5;15m                      \u001b[39m\u001b[38;5;15mkey\u001b[39m\u001b[38;5;15m \u001b[39m\u001b[38;5;197m->\u001b[39m\n",
      "\u001b[38;5;15m                        \u001b[39m\u001b[38;5;148mStringNode\u001b[39m\u001b[38;5;197m(\u001b[39m\u001b[38;5;197m)\u001b[39m\n",
      "\u001b[38;5;15m                          \u001b[39m\u001b[38;5;242m# identifiers: string, string_, stringnode\u001b[39m\n",
      "\u001b[38;5;15m                          \u001b[39m\u001b[38;5;15mvalue\u001b[39m\u001b[38;5;197m=\u001b[39m\u001b[38;5;186m'\"name\"'\u001b[39m\n",
      "\u001b[38;5;15m                      \u001b[39m\u001b[38;5;15mvalue\u001b[39m\u001b[38;5;15m \u001b[39m\u001b[38;5;197m->\u001b[39m\n",
      "\u001b[38;5;15m                        \u001b[39m\u001b[38;5;148mStringNode\u001b[39m\u001b[38;5;197m(\u001b[39m\u001b[38;5;197m)\u001b[39m\n",
      "\u001b[38;5;15m                          \u001b[39m\u001b[38;5;242m# identifiers: string, string_, stringnode\u001b[39m\n",
      "\u001b[38;5;15m                          \u001b[39m\u001b[38;5;15mvalue\u001b[39m\u001b[38;5;197m=\u001b[39m\u001b[38;5;186m'\"python\"'\u001b[39m\n",
      "\u001b[38;5;15m                  \u001b[39m\u001b[38;5;197m*\u001b[39m\u001b[38;5;81m DictitemNode\u001b[39m\u001b[38;5;197m(\u001b[39m\u001b[38;5;197m)\u001b[39m\n",
      "\u001b[38;5;15m                      \u001b[39m\u001b[38;5;242m# identifiers: dictitem, dictitem_, dictitemnode\u001b[39m\n",
      "\u001b[38;5;15m                      \u001b[39m\u001b[38;5;15mkey\u001b[39m\u001b[38;5;15m \u001b[39m\u001b[38;5;197m->\u001b[39m\n",
      "\u001b[38;5;15m                        \u001b[39m\u001b[38;5;148mStringNode\u001b[39m\u001b[38;5;197m(\u001b[39m\u001b[38;5;197m)\u001b[39m\n",
      "\u001b[38;5;15m                          \u001b[39m\u001b[38;5;242m# identifiers: string, string_, stringnode\u001b[39m\n",
      "\u001b[38;5;15m                          \u001b[39m\u001b[38;5;15mvalue\u001b[39m\u001b[38;5;197m=\u001b[39m\u001b[38;5;186m'\"nbconvert_exporter\"'\u001b[39m\n",
      "\u001b[38;5;15m                      \u001b[39m\u001b[38;5;15mvalue\u001b[39m\u001b[38;5;15m \u001b[39m\u001b[38;5;197m->\u001b[39m\n",
      "\u001b[38;5;15m                        \u001b[39m\u001b[38;5;148mStringNode\u001b[39m\u001b[38;5;197m(\u001b[39m\u001b[38;5;197m)\u001b[39m\n",
      "\u001b[38;5;15m                          \u001b[39m\u001b[38;5;242m# identifiers: string, string_, stringnode\u001b[39m\n",
      "\u001b[38;5;15m                          \u001b[39m\u001b[38;5;15mvalue\u001b[39m\u001b[38;5;197m=\u001b[39m\u001b[38;5;186m'\"python\"'\u001b[39m\n",
      "\u001b[38;5;15m                  \u001b[39m\u001b[38;5;197m*\u001b[39m\u001b[38;5;81m DictitemNode\u001b[39m\u001b[38;5;197m(\u001b[39m\u001b[38;5;197m)\u001b[39m\n",
      "\u001b[38;5;15m                      \u001b[39m\u001b[38;5;242m# identifiers: dictitem, dictitem_, dictitemnode\u001b[39m\n",
      "\u001b[38;5;15m                      \u001b[39m\u001b[38;5;15mkey\u001b[39m\u001b[38;5;15m \u001b[39m\u001b[38;5;197m->\u001b[39m\n",
      "\u001b[38;5;15m                        \u001b[39m\u001b[38;5;148mStringNode\u001b[39m\u001b[38;5;197m(\u001b[39m\u001b[38;5;197m)\u001b[39m\n",
      "\u001b[38;5;15m                          \u001b[39m\u001b[38;5;242m# identifiers: string, string_, stringnode\u001b[39m\n",
      "\u001b[38;5;15m                          \u001b[39m\u001b[38;5;15mvalue\u001b[39m\u001b[38;5;197m=\u001b[39m\u001b[38;5;186m'\"pygments_lexer\"'\u001b[39m\n",
      "\u001b[38;5;15m                      \u001b[39m\u001b[38;5;15mvalue\u001b[39m\u001b[38;5;15m \u001b[39m\u001b[38;5;197m->\u001b[39m\n",
      "\u001b[38;5;15m                        \u001b[39m\u001b[38;5;148mStringNode\u001b[39m\u001b[38;5;197m(\u001b[39m\u001b[38;5;197m)\u001b[39m\n",
      "\u001b[38;5;15m                          \u001b[39m\u001b[38;5;242m# identifiers: string, string_, stringnode\u001b[39m\n",
      "\u001b[38;5;15m                          \u001b[39m\u001b[38;5;15mvalue\u001b[39m\u001b[38;5;197m=\u001b[39m\u001b[38;5;186m'\"ipython3\"'\u001b[39m\n",
      "\u001b[38;5;15m                  \u001b[39m\u001b[38;5;197m*\u001b[39m\u001b[38;5;81m DictitemNode\u001b[39m\u001b[38;5;197m(\u001b[39m\u001b[38;5;197m)\u001b[39m\n",
      "\u001b[38;5;15m                      \u001b[39m\u001b[38;5;242m# identifiers: dictitem, dictitem_, dictitemnode\u001b[39m\n",
      "\u001b[38;5;15m                      \u001b[39m\u001b[38;5;15mkey\u001b[39m\u001b[38;5;15m \u001b[39m\u001b[38;5;197m->\u001b[39m\n",
      "\u001b[38;5;15m                        \u001b[39m\u001b[38;5;148mStringNode\u001b[39m\u001b[38;5;197m(\u001b[39m\u001b[38;5;197m)\u001b[39m\n",
      "\u001b[38;5;15m                          \u001b[39m\u001b[38;5;242m# identifiers: string, string_, stringnode\u001b[39m\n",
      "\u001b[38;5;15m                          \u001b[39m\u001b[38;5;15mvalue\u001b[39m\u001b[38;5;197m=\u001b[39m\u001b[38;5;186m'\"version\"'\u001b[39m\n",
      "\u001b[38;5;15m                      \u001b[39m\u001b[38;5;15mvalue\u001b[39m\u001b[38;5;15m \u001b[39m\u001b[38;5;197m->\u001b[39m\n",
      "\u001b[38;5;15m                        \u001b[39m\u001b[38;5;148mStringNode\u001b[39m\u001b[38;5;197m(\u001b[39m\u001b[38;5;197m)\u001b[39m\n",
      "\u001b[38;5;15m                          \u001b[39m\u001b[38;5;242m# identifiers: string, string_, stringnode\u001b[39m\n",
      "\u001b[38;5;15m                          \u001b[39m\u001b[38;5;15mvalue\u001b[39m\u001b[38;5;197m=\u001b[39m\u001b[38;5;186m'\"3.10.8\"'\u001b[39m\n",
      "\u001b[38;5;15m        \u001b[39m\u001b[38;5;197m*\u001b[39m\u001b[38;5;81m DictitemNode\u001b[39m\u001b[38;5;197m(\u001b[39m\u001b[38;5;197m)\u001b[39m\n",
      "\u001b[38;5;15m            \u001b[39m\u001b[38;5;242m# identifiers: dictitem, dictitem_, dictitemnode\u001b[39m\n",
      "\u001b[38;5;15m            \u001b[39m\u001b[38;5;15mkey\u001b[39m\u001b[38;5;15m \u001b[39m\u001b[38;5;197m->\u001b[39m\n",
      "\u001b[38;5;15m              \u001b[39m\u001b[38;5;148mStringNode\u001b[39m\u001b[38;5;197m(\u001b[39m\u001b[38;5;197m)\u001b[39m\n",
      "\u001b[38;5;15m                \u001b[39m\u001b[38;5;242m# identifiers: string, string_, stringnode\u001b[39m\n",
      "\u001b[38;5;15m                \u001b[39m\u001b[38;5;15mvalue\u001b[39m\u001b[38;5;197m=\u001b[39m\u001b[38;5;186m'\"orig_nbformat\"'\u001b[39m\n",
      "\u001b[38;5;15m            \u001b[39m\u001b[38;5;15mvalue\u001b[39m\u001b[38;5;15m \u001b[39m\u001b[38;5;197m->\u001b[39m\n",
      "\u001b[38;5;15m              \u001b[39m\u001b[38;5;148mIntNode\u001b[39m\u001b[38;5;197m(\u001b[39m\u001b[38;5;197m)\u001b[39m\n",
      "\u001b[38;5;15m                \u001b[39m\u001b[38;5;242m# identifiers: int, int_, intnode\u001b[39m\n",
      "\u001b[38;5;15m                \u001b[39m\u001b[38;5;15mvalue\u001b[39m\u001b[38;5;197m=\u001b[39m\u001b[38;5;186m'4'\u001b[39m\n",
      "\u001b[38;5;15m        \u001b[39m\u001b[38;5;197m*\u001b[39m\u001b[38;5;81m DictitemNode\u001b[39m\u001b[38;5;197m(\u001b[39m\u001b[38;5;197m)\u001b[39m\n",
      "\u001b[38;5;15m            \u001b[39m\u001b[38;5;242m# identifiers: dictitem, dictitem_, dictitemnode\u001b[39m\n",
      "\u001b[38;5;15m            \u001b[39m\u001b[38;5;15mkey\u001b[39m\u001b[38;5;15m \u001b[39m\u001b[38;5;197m->\u001b[39m\n",
      "\u001b[38;5;15m              \u001b[39m\u001b[38;5;148mStringNode\u001b[39m\u001b[38;5;197m(\u001b[39m\u001b[38;5;197m)\u001b[39m\n",
      "\u001b[38;5;15m                \u001b[39m\u001b[38;5;242m# identifiers: string, string_, stringnode\u001b[39m\n",
      "\u001b[38;5;15m                \u001b[39m\u001b[38;5;15mvalue\u001b[39m\u001b[38;5;197m=\u001b[39m\u001b[38;5;186m'\"vscode\"'\u001b[39m\n",
      "\u001b[38;5;15m            \u001b[39m\u001b[38;5;15mvalue\u001b[39m\u001b[38;5;15m \u001b[39m\u001b[38;5;197m->\u001b[39m\n",
      "\u001b[38;5;15m              \u001b[39m\u001b[38;5;148mDictNode\u001b[39m\u001b[38;5;197m(\u001b[39m\u001b[38;5;197m)\u001b[39m\n",
      "\u001b[38;5;15m                \u001b[39m\u001b[38;5;242m# identifiers: dict, dict_, dictnode\u001b[39m\n",
      "\u001b[38;5;15m                \u001b[39m\u001b[38;5;15mvalue\u001b[39m\u001b[38;5;15m \u001b[39m\u001b[38;5;197m->\u001b[39m\n",
      "\u001b[38;5;15m                  \u001b[39m\u001b[38;5;197m*\u001b[39m\u001b[38;5;81m DictitemNode\u001b[39m\u001b[38;5;197m(\u001b[39m\u001b[38;5;197m)\u001b[39m\n",
      "\u001b[38;5;15m                      \u001b[39m\u001b[38;5;242m# identifiers: dictitem, dictitem_, dictitemnode\u001b[39m\n",
      "\u001b[38;5;15m                      \u001b[39m\u001b[38;5;15mkey\u001b[39m\u001b[38;5;15m \u001b[39m\u001b[38;5;197m->\u001b[39m\n",
      "\u001b[38;5;15m                        \u001b[39m\u001b[38;5;148mStringNode\u001b[39m\u001b[38;5;197m(\u001b[39m\u001b[38;5;197m)\u001b[39m\n",
      "\u001b[38;5;15m                          \u001b[39m\u001b[38;5;242m# identifiers: string, string_, stringnode\u001b[39m\n",
      "\u001b[38;5;15m                          \u001b[39m\u001b[38;5;15mvalue\u001b[39m\u001b[38;5;197m=\u001b[39m\u001b[38;5;186m'\"interpreter\"'\u001b[39m\n",
      "\u001b[38;5;15m                      \u001b[39m\u001b[38;5;15mvalue\u001b[39m\u001b[38;5;15m \u001b[39m\u001b[38;5;197m->\u001b[39m\n",
      "\u001b[38;5;15m                        \u001b[39m\u001b[38;5;148mDictNode\u001b[39m\u001b[38;5;197m(\u001b[39m\u001b[38;5;197m)\u001b[39m\n",
      "\u001b[38;5;15m                          \u001b[39m\u001b[38;5;242m# identifiers: dict, dict_, dictnode\u001b[39m\n",
      "\u001b[38;5;15m                          \u001b[39m\u001b[38;5;15mvalue\u001b[39m\u001b[38;5;15m \u001b[39m\u001b[38;5;197m->\u001b[39m\n",
      "\u001b[38;5;15m                            \u001b[39m\u001b[38;5;197m*\u001b[39m\u001b[38;5;81m DictitemNode\u001b[39m\u001b[38;5;197m(\u001b[39m\u001b[38;5;197m)\u001b[39m\n",
      "\u001b[38;5;15m                                \u001b[39m\u001b[38;5;242m# identifiers: dictitem, dictitem_, dictitemnode\u001b[39m\n",
      "\u001b[38;5;15m                                \u001b[39m\u001b[38;5;15mkey\u001b[39m\u001b[38;5;15m \u001b[39m\u001b[38;5;197m->\u001b[39m\n",
      "\u001b[38;5;15m                                  \u001b[39m\u001b[38;5;148mStringNode\u001b[39m\u001b[38;5;197m(\u001b[39m\u001b[38;5;197m)\u001b[39m\n",
      "\u001b[38;5;15m                                    \u001b[39m\u001b[38;5;242m# identifiers: string, string_, stringnode\u001b[39m\n",
      "\u001b[38;5;15m                                    \u001b[39m\u001b[38;5;15mvalue\u001b[39m\u001b[38;5;197m=\u001b[39m\u001b[38;5;186m'\"hash\"'\u001b[39m\n",
      "\u001b[38;5;15m                                \u001b[39m\u001b[38;5;15mvalue\u001b[39m\u001b[38;5;15m \u001b[39m\u001b[38;5;197m->\u001b[39m\n",
      "\u001b[38;5;15m                                  \u001b[39m\u001b[38;5;148mStringNode\u001b[39m\u001b[38;5;197m(\u001b[39m\u001b[38;5;197m)\u001b[39m\n",
      "\u001b[38;5;15m                                    \u001b[39m\u001b[38;5;242m# identifiers: string, string_, stringnode\u001b[39m\n",
      "\u001b[38;5;15m                                    \u001b[39m\u001b[38;5;15mvalue\u001b[39m\u001b[38;5;197m=\u001b[39m\u001b[38;5;186m'\"7460d441b5a2df99d051490e5490331ce03b335220e9c7f658719b37819ef91b\"'\u001b[39m\n",
      "None\n"
     ]
    }
   ],
   "source": [
    "print(red[0][1].help(-1))"
   ]
  },
  {
   "cell_type": "code",
   "execution_count": null,
   "metadata": {},
   "outputs": [
    {
     "name": "stdout",
     "output_type": "stream",
     "text": [
      "0   <IntNode path=[0, 'value', 0, 'value', 'value', 0, 'value', 2, 'value'], \"4\" 140543553076768, on DictitemNode 140543553075520>\n",
      "1   <IntNode path=[0, 'value', 0, 'value', 'value', 2, 'value', 2, 'value'], \"5\" 140543553085904, on DictitemNode 140543553084656>\n",
      "2   <IntNode path=[0, 'value', 0, 'value', 'value', 4, 'value', 2, 'value'], \"6\" 140543553095856, on DictitemNode 140543553094608>\n",
      "3   <IntNode path=[0, 'value', 2, 'value', 'value', 2, 'value', 'value', 0, 'value', 'value', 2, 'value'], \"3\" 140543553152496, on DictitemNode 140543553151248>\n",
      "4   <IntNode path=[0, 'value', 2, 'value', 'value', 4, 'value'], \"4\" 140543553149616, on DictitemNode 140543553143280>\n",
      "5   <IntNode path=[0, 'value', 4, 'value'], \"4\" 140543553094272, on DictitemNode 140543553069856>\n",
      "6   <IntNode path=[0, 'value', 6, 'value'], \"2\" 140543553183680, on DictitemNode 140543553108768>\n",
      "\n"
     ]
    }
   ],
   "source": [
    "i1 = red.find_all(\"int\")\n",
    "print(i1)"
   ]
  },
  {
   "cell_type": "code",
   "execution_count": null,
   "metadata": {},
   "outputs": [
    {
     "name": "stdout",
     "output_type": "stream",
     "text": [
      "\u001b[38;5;141m1\u001b[39m\n",
      "\n"
     ]
    },
    {
     "data": {
      "text/html": [
       "<div class=\"highlight\" style=\"background: #f8f8f8\"><pre style=\"line-height: 125%;\"><span></span><span style=\"color: #666666\">1</span> <span style=\"color: #666666\">+</span> <span style=\"color: #666666\">2</span>\n",
       "</pre></div>\n"
      ],
      "text/plain": [
       "<BinaryOperatorNode path=[0, 'value'], \"1 + 2\" 140687166610384, on AssignmentNode 140687166617296>"
      ]
     },
     "execution_count": 178,
     "metadata": {},
     "output_type": "execute_result"
    }
   ],
   "source": [
    "am = red.find(\"int\", value='1')\n",
    "print(am)\n",
    "am.parent"
   ]
  },
  {
   "cell_type": "code",
   "execution_count": null,
   "metadata": {},
   "outputs": [
    {
     "data": {
      "text/html": [
       "<table><tr><th>Index</th><th>node</th></tr><tr><td>0</td><td><div class=\"highlight\" style=\"background: #f8f8f8\"><pre style=\"line-height: 125%;\"><span></span>stuff <span style=\"color: #666666\">=</span> <span style=\"color: #666666\">1+4</span>\n",
       "</pre></div>\n",
       "</td></tr><tr><td>1</td><td><div class=\"highlight\" style=\"background: #f8f8f8\"><pre style=\"line-height: 125%;\"><span></span>thing <span style=\"color: #666666\">=</span> <span style=\"color: #666666\">3+4</span>\n",
       "</pre></div>\n",
       "</td></tr><tr><td>2</td><td><div class=\"highlight\" style=\"background: #f8f8f8\"><pre style=\"line-height: 125%;\"><span></span><span style=\"color: #008000\">print</span> <span style=\"color: #BA2121\">&#39;Beautiful result:&#39;</span>, stuff\n",
       "</pre></div>\n",
       "</td></tr><tr><td>3</td><td><div class=\"highlight\" style=\"background: #f8f8f8\"><pre style=\"line-height: 125%;\"><span></span> \n",
       "</pre></div>\n",
       "</td></tr></table>"
      ],
      "text/plain": [
       "<RedBaron [], \"stuff = 1+4\\nthi... \" 140685821211312, on NoneType 4342031760>"
      ]
     },
     "execution_count": 179,
     "metadata": {},
     "output_type": "execute_result"
    }
   ],
   "source": [
    "am.parent=\"1+4\"\n",
    "red[0].value = \"1+4\"\n",
    "red"
   ]
  },
  {
   "cell_type": "code",
   "execution_count": null,
   "metadata": {},
   "outputs": [],
   "source": [
    "# Save modified code to ipynb file\n",
    "\n",
    "my_utils.dump_redbaron(red, \"dump.py\")"
   ]
  }
 ],
 "metadata": {
  "kernelspec": {
   "display_name": "Python 3.10.8 ('konferenv')",
   "language": "python",
   "name": "python3"
  },
  "language_info": {
   "codemirror_mode": {
    "name": "ipython",
    "version": 3
   },
   "file_extension": ".py",
   "mimetype": "text/x-python",
   "name": "python",
   "nbconvert_exporter": "python",
   "pygments_lexer": "ipython3",
   "version": "3.10.8"
  },
  "orig_nbformat": 4,
  "vscode": {
   "interpreter": {
    "hash": "7460d441b5a2df99d051490e5490331ce03b335220e9c7f658719b37819ef91b"
   }
  }
 },
 "nbformat": 4,
 "nbformat_minor": 2
}
