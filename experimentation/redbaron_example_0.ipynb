{
 "cells": [
  {
   "cell_type": "code",
   "execution_count": 5,
   "metadata": {},
   "outputs": [],
   "source": [
    "from redbaron import RedBaron, NameNode\n",
    "import gorilla\n",
    "import json\n",
    "import my_utils"
   ]
  },
  {
   "cell_type": "code",
   "execution_count": 6,
   "metadata": {},
   "outputs": [],
   "source": [
    "# red = RedBaron(\"a = 1\\nb=2\\nprint(a+b)\")\n",
    "red = RedBaron(\"stuff = 1 + 2\\nthing = 3+4\\nprint 'Beautiful result:', stuff \")"
   ]
  },
  {
   "cell_type": "code",
   "execution_count": 7,
   "metadata": {},
   "outputs": [],
   "source": [
    "# with open(\"../source_files/knn.ipynb\", \"r\") as source_code:\n",
    "#     red = RedBaron(source_code.read())\n",
    "\n",
    "# with open(\"dump.ipynb\", \"w\") as source_code:\n",
    "#     source_code.write(red.dumps())\n",
    "\n",
    "# with open(\"../sample_programs/sample_program_0.py\", \"r\") as source_code:\n",
    "#     red = RedBaron(source_code.read())\n",
    "\n",
    "# with open(\"dump.py\", \"w\") as source_code:\n",
    "#     source_code.write(red.dumps())"
   ]
  },
  {
   "cell_type": "markdown",
   "metadata": {},
   "source": [
    "Use Help() and indexing to print out structures of nodes. Can contain list of nodes, or value & target child nodes. Other formats also possible. Basically helps understand AST."
   ]
  },
  {
   "cell_type": "code",
   "execution_count": 8,
   "metadata": {},
   "outputs": [
    {
     "name": "stdout",
     "output_type": "stream",
     "text": [
      "<class 'redbaron.base_nodes.CommaProxyList'>\n",
      "\u001b[38;5;148mPrintNode\u001b[39m\u001b[38;5;197m(\u001b[39m\u001b[38;5;197m)\u001b[39m\n",
      "\u001b[38;5;15m  \u001b[39m\u001b[38;5;242m# identifiers: print, print_, printnode\u001b[39m\n",
      "\u001b[38;5;15m  \u001b[39m\u001b[38;5;15mdestination\u001b[39m\u001b[38;5;15m \u001b[39m\u001b[38;5;197m->\u001b[39m\n",
      "\u001b[38;5;15m    \u001b[39m\u001b[38;5;186mNone\u001b[39m\n",
      "\u001b[38;5;15m  \u001b[39m\u001b[38;5;15mvalue\u001b[39m\u001b[38;5;15m \u001b[39m\u001b[38;5;197m->\u001b[39m\n",
      "\u001b[38;5;15m    \u001b[39m\u001b[38;5;197m*\u001b[39m\u001b[38;5;81m StringNode\u001b[39m\u001b[38;5;197m(\u001b[39m\u001b[38;5;197m)\u001b[39m\n",
      "\u001b[38;5;15m        \u001b[39m\u001b[38;5;242m# identifiers: string, string_, stringnode\u001b[39m\n",
      "\u001b[38;5;15m        \u001b[39m\u001b[38;5;15mvalue\u001b[39m\u001b[38;5;197m=\u001b[39m\u001b[38;5;186m\"'Beautiful result:'\"\u001b[39m\n",
      "\u001b[38;5;15m    \u001b[39m\u001b[38;5;197m*\u001b[39m\u001b[38;5;81m NameNode\u001b[39m\u001b[38;5;197m(\u001b[39m\u001b[38;5;197m)\u001b[39m\n",
      "\u001b[38;5;15m        \u001b[39m\u001b[38;5;242m# identifiers: name, name_, namenode\u001b[39m\n",
      "\u001b[38;5;15m        \u001b[39m\u001b[38;5;15mvalue\u001b[39m\u001b[38;5;197m=\u001b[39m\u001b[38;5;186m'stuff'\u001b[39m\n",
      "None\n",
      "----------\n",
      "0 -----------------------------------------------------\n",
      "\u001b[38;5;148mStringNode\u001b[39m\u001b[38;5;197m(\u001b[39m\u001b[38;5;197m)\u001b[39m\n",
      "\u001b[38;5;15m  \u001b[39m\u001b[38;5;242m# identifiers: string, string_, stringnode\u001b[39m\n",
      "\u001b[38;5;15m  \u001b[39m\u001b[38;5;15mvalue\u001b[39m\u001b[38;5;197m=\u001b[39m\u001b[38;5;186m\"'Beautiful result:'\"\u001b[39m\n",
      "1 -----------------------------------------------------\n",
      "\u001b[38;5;148mCommaNode\u001b[39m\u001b[38;5;197m(\u001b[39m\u001b[38;5;197m)\u001b[39m\n",
      "\u001b[38;5;15m  \u001b[39m\u001b[38;5;242m# identifiers: comma, comma_, commanode\u001b[39m\n",
      "2 -----------------------------------------------------\n",
      "\u001b[38;5;148mNameNode\u001b[39m\u001b[38;5;197m(\u001b[39m\u001b[38;5;197m)\u001b[39m\n",
      "\u001b[38;5;15m  \u001b[39m\u001b[38;5;242m# identifiers: name, name_, namenode\u001b[39m\n",
      "\u001b[38;5;15m  \u001b[39m\u001b[38;5;15mvalue\u001b[39m\u001b[38;5;197m=\u001b[39m\u001b[38;5;186m'stuff'\u001b[39m\n",
      "None\n"
     ]
    }
   ],
   "source": [
    "print(type(red[2].value))\n",
    "print(red[2].help())\n",
    "print('----------')\n",
    "print(red[2].value.help())"
   ]
  },
  {
   "cell_type": "code",
   "execution_count": 9,
   "metadata": {},
   "outputs": [
    {
     "name": "stdout",
     "output_type": "stream",
     "text": [
      "<class 'redbaron.base_nodes.NodeList'>\n",
      "\u001b[38;5;148mAssignmentNode\u001b[39m\u001b[38;5;197m(\u001b[39m\u001b[38;5;197m)\u001b[39m\n",
      "\u001b[38;5;15m  \u001b[39m\u001b[38;5;242m# identifiers: assign, assignment, assignment_, assignmentnode\u001b[39m\n",
      "\u001b[38;5;15m  \u001b[39m\u001b[38;5;15moperator\u001b[39m\u001b[38;5;197m=\u001b[39m\u001b[38;5;186m''\u001b[39m\n",
      "\u001b[38;5;15m  \u001b[39m\u001b[38;5;15mtarget\u001b[39m\u001b[38;5;15m \u001b[39m\u001b[38;5;197m->\u001b[39m\n",
      "\u001b[38;5;15m    \u001b[39m\u001b[38;5;148mNameNode\u001b[39m\u001b[38;5;197m(\u001b[39m\u001b[38;5;197m)\u001b[39m\n",
      "\u001b[38;5;15m      \u001b[39m\u001b[38;5;242m# identifiers: name, name_, namenode\u001b[39m\n",
      "\u001b[38;5;15m      \u001b[39m\u001b[38;5;15mvalue\u001b[39m\u001b[38;5;197m=\u001b[39m\u001b[38;5;186m'stuff'\u001b[39m\n",
      "\u001b[38;5;15m  \u001b[39m\u001b[38;5;15mannotation\u001b[39m\u001b[38;5;15m \u001b[39m\u001b[38;5;197m->\u001b[39m\n",
      "\u001b[38;5;15m    \u001b[39m\u001b[38;5;186mNone\u001b[39m\n",
      "\u001b[38;5;15m  \u001b[39m\u001b[38;5;15mvalue\u001b[39m\u001b[38;5;15m \u001b[39m\u001b[38;5;197m->\u001b[39m\n",
      "\u001b[38;5;15m    \u001b[39m\u001b[38;5;148mBinaryOperatorNode\u001b[39m\u001b[38;5;197m(\u001b[39m\u001b[38;5;197m)\u001b[39m\n",
      "\u001b[38;5;15m      \u001b[39m\u001b[38;5;242m# identifiers: binary_operator, binary_operator_, binaryoperator, binaryoperatornode\u001b[39m\n",
      "\u001b[38;5;15m      \u001b[39m\u001b[38;5;15mvalue\u001b[39m\u001b[38;5;197m=\u001b[39m\u001b[38;5;186m'+'\u001b[39m\n",
      "\u001b[38;5;15m      \u001b[39m\u001b[38;5;15mfirst\u001b[39m\u001b[38;5;15m \u001b[39m\u001b[38;5;197m->\u001b[39m\n",
      "\u001b[38;5;15m        \u001b[39m\u001b[38;5;148mIntNode\u001b[39m\u001b[38;5;197m(\u001b[39m\u001b[38;5;197m)\u001b[39m\n",
      "\u001b[38;5;15m          \u001b[39m\u001b[38;5;242m# identifiers: int, int_, intnode\u001b[39m\n",
      "\u001b[38;5;15m          \u001b[39m\u001b[38;5;15mvalue\u001b[39m\u001b[38;5;197m=\u001b[39m\u001b[38;5;186m'1'\u001b[39m\n",
      "\u001b[38;5;15m      \u001b[39m\u001b[38;5;15msecond\u001b[39m\u001b[38;5;15m \u001b[39m\u001b[38;5;197m->\u001b[39m\n",
      "\u001b[38;5;15m        \u001b[39m\u001b[38;5;148mIntNode\u001b[39m\u001b[38;5;197m(\u001b[39m\u001b[38;5;197m)\u001b[39m\n",
      "\u001b[38;5;15m          \u001b[39m\u001b[38;5;242m# identifiers: int, int_, intnode\u001b[39m\n",
      "\u001b[38;5;15m          \u001b[39m\u001b[38;5;15mvalue\u001b[39m\u001b[38;5;197m=\u001b[39m\u001b[38;5;186m'2'\u001b[39m\n",
      "None\n"
     ]
    }
   ],
   "source": [
    "all_assign = red.find_all(\"assign\")\n",
    "\n",
    "print(type(all_assign))\n",
    "\n",
    "print(all_assign[0].help(10))"
   ]
  },
  {
   "cell_type": "code",
   "execution_count": 10,
   "metadata": {},
   "outputs": [
    {
     "name": "stdout",
     "output_type": "stream",
     "text": [
      "\u001b[38;5;141m1\u001b[39m\n",
      "\n"
     ]
    },
    {
     "data": {
      "text/html": [
       "<div class=\"highlight\" style=\"background: #f8f8f8\"><pre style=\"line-height: 125%;\"><span></span><span style=\"color: #666666\">1</span> <span style=\"color: #666666\">+</span> <span style=\"color: #666666\">2</span>\n",
       "</pre></div>\n"
      ],
      "text/plain": [
       "<BinaryOperatorNode path=[0, 'value'], \"1 + 2\" 140275522051984, on AssignmentNode 140275385900080>"
      ]
     },
     "execution_count": 10,
     "metadata": {},
     "output_type": "execute_result"
    }
   ],
   "source": [
    "am = red.find(\"int\", value='1')\n",
    "print(am)\n",
    "am.parent"
   ]
  },
  {
   "cell_type": "code",
   "execution_count": 11,
   "metadata": {},
   "outputs": [
    {
     "data": {
      "text/html": [
       "<table><tr><th>Index</th><th>node</th></tr><tr><td>0</td><td><div class=\"highlight\" style=\"background: #f8f8f8\"><pre style=\"line-height: 125%;\"><span></span>stuff <span style=\"color: #666666\">=</span> <span style=\"color: #666666\">1+4</span>\n",
       "</pre></div>\n",
       "</td></tr><tr><td>1</td><td><div class=\"highlight\" style=\"background: #f8f8f8\"><pre style=\"line-height: 125%;\"><span></span>thing <span style=\"color: #666666\">=</span> <span style=\"color: #666666\">3+4</span>\n",
       "</pre></div>\n",
       "</td></tr><tr><td>2</td><td><div class=\"highlight\" style=\"background: #f8f8f8\"><pre style=\"line-height: 125%;\"><span></span><span style=\"color: #008000\">print</span> <span style=\"color: #BA2121\">&#39;Beautiful result:&#39;</span>, stuff\n",
       "</pre></div>\n",
       "</td></tr><tr><td>3</td><td><div class=\"highlight\" style=\"background: #f8f8f8\"><pre style=\"line-height: 125%;\"><span></span> \n",
       "</pre></div>\n",
       "</td></tr></table>"
      ],
      "text/plain": [
       "<RedBaron [], \"stuff = 1+4\\nthi... \" 140275522053952, on NoneType 4468954512>"
      ]
     },
     "execution_count": 11,
     "metadata": {},
     "output_type": "execute_result"
    }
   ],
   "source": [
    "am.parent=\"1+4\"\n",
    "red[0].value = \"1+4\"\n",
    "red"
   ]
  },
  {
   "cell_type": "code",
   "execution_count": 12,
   "metadata": {},
   "outputs": [],
   "source": [
    "# Save modified code to ipynb file\n",
    "\n",
    "my_utils.dump_redbaron(red, \"dump.py\")"
   ]
  }
 ],
 "metadata": {
  "kernelspec": {
   "display_name": "Python 3.10.8 ('konferenv')",
   "language": "python",
   "name": "python3"
  },
  "language_info": {
   "codemirror_mode": {
    "name": "ipython",
    "version": 3
   },
   "file_extension": ".py",
   "mimetype": "text/x-python",
   "name": "python",
   "nbconvert_exporter": "python",
   "pygments_lexer": "ipython3",
   "version": "3.10.8"
  },
  "orig_nbformat": 4,
  "vscode": {
   "interpreter": {
    "hash": "7460d441b5a2df99d051490e5490331ce03b335220e9c7f658719b37819ef91b"
   }
  }
 },
 "nbformat": 4,
 "nbformat_minor": 2
}
